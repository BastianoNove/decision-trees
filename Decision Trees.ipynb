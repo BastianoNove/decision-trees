{
 "cells": [
  {
   "cell_type": "markdown",
   "metadata": {},
   "source": [
    "# Decision Trees"
   ]
  },
  {
   "cell_type": "markdown",
   "metadata": {},
   "source": [
    "Let's implement a decision tree"
   ]
  },
  {
   "cell_type": "markdown",
   "metadata": {},
   "source": [
    "We'll need two kinds of nodes:\n",
    "\n",
    "1.  **Internal nodes** to  represent decisions\n",
    "2.  **Leaf nodes** to represent classes"
   ]
  },
  {
   "cell_type": "code",
   "execution_count": 394,
   "metadata": {
    "collapsed": true
   },
   "outputs": [],
   "source": [
    "class Node(object):\n",
    "    def __init__(self, children):\n",
    "        self.children = children\n",
    "\n",
    "class Internal(Node):\n",
    "    def __init__(self, attrfn, children):\n",
    "        print(\"Building internal node with predicate {0}\".format(attrfn))        \n",
    "        self.predicate = attrfn\n",
    "        super().__init__(children)\n",
    "\n",
    "class Leaf(Node):\n",
    "    def __init__(self, label):\n",
    "        print(\"Building leaf with class {0}\".format(label))\n",
    "        self.class_label = label\n",
    "        super().__init__(None)"
   ]
  },
  {
   "cell_type": "markdown",
   "metadata": {},
   "source": [
    "The basic algorithm is simple:\n",
    "\n",
    "<code>\n",
    " build_tree(samples)\n",
    "  if (y = 0 for all (x, y) in samples) return new leaf(0)\n",
    "  else if (y = 1 for all (x,y) in samples) return new leaf(1)\n",
    "  else\n",
    "    chose best attribute x<sub>j</sub>\n",
    "    s0 = all (x, y) in samples with x<sub>j</sub> = 0\n",
    "    s1 = all (x, y) in samples with x<sub>j</sub> = 1\n",
    "    return new node(x<sub>j</sub>, build_tree(s0), build_tree(s1))\n",
    "</code>"
   ]
  },
  {
   "cell_type": "code",
   "execution_count": 395,
   "metadata": {
    "collapsed": false
   },
   "outputs": [],
   "source": [
    "from collections import Counter\n",
    "\n",
    "def build_tree(samples, split, attrfns, classfn):\n",
    "    \"\"\"Build a decision tree\n",
    "       Parameters:\n",
    "       samples   -- list of samples, where each sample is a list of attributes\n",
    "       split     -- function that takes a list of samples, a list of attribute functions, and \n",
    "                    a classfn function. The function splits the data based on the best attribute,\n",
    "                    and returns a tuple:\n",
    "                    1) dict of data split, where key is the attribute value, and the value\n",
    "                       is a list of examples that have that attribute value\n",
    "                    2) the attribute function used for this split\n",
    "                    \n",
    "                    Example:\n",
    "                    \n",
    "                    samples = [['Monday', 'Yellow', 'X'], ['Monday', 'Red', 'O']]\n",
    "                    def day(s): return s[0]\n",
    "                    def color(s): return s[1]\n",
    "                    def classfn(s): return s[2]\n",
    "                    \n",
    "                    \n",
    "                    split(samples, [day, color], classfn)  (may return) =>\n",
    "                    \n",
    "                    {'Yellow' => ['Monday', 'Yellow', 'X']\n",
    "                     'Red'    => ['Monday', 'Red', 'O']} ,\n",
    "                     color\n",
    "                     \n",
    "                     if this function determines there is no best way to split these samples,\n",
    "                     it will return None, None\n",
    "                      \n",
    "       attrfns   -- list of attribute functions. Each of these functions can be applied to a \n",
    "                    a sample to get a specific attribute.\n",
    "                    e.g., [day_attr, color_attr],  day_attr(sample) => \"Monday\"\n",
    "                    or color_attr(sample) => \"Red\"\n",
    "       classfn     -- function that takes a single sample and returns the class for that sample\n",
    "                    e.g., classfn(sample) => 'X'\n",
    "    \"\"\"        \n",
    "    if all(classfn(samples[0]) == classfn(sample) for sample in samples):\n",
    "        print(\"Building leaf with {0} same-class samples\".format(len(samples)))\n",
    "        return Leaf(classfn(samples[0]))\n",
    "\n",
    "    if not attrfns:\n",
    "        print(\"Building leaf with {0} samples\".format(len(samples)))\n",
    "        return Leaf(Counter(classfn(sample) for sample in samples).most_common()[0][0])\n",
    "    \n",
    "    splits, attrfn = split(samples, attrfns, classfn)\n",
    "    if not splits:\n",
    "        print(\"Building leaf with {0} samples\".format(len(samples)))\n",
    "        return Leaf(Counter(classfn(sample) for sample in samples).most_common()[0][0])\n",
    "    \n",
    "    remaining_attrfns = [fn for fn in attrfns if fn != attrfn]\n",
    "\n",
    "    child_nodes = dict()\n",
    "    for key, group in splits.items():\n",
    "        child_nodes[key] = build_tree(group, split, remaining_attrfns, classfn)\n",
    "    return Internal(attrfn, child_nodes)"
   ]
  },
  {
   "cell_type": "markdown",
   "metadata": {},
   "source": [
    "We have not defined split, that depends on the data and which criteria to use."
   ]
  },
  {
   "cell_type": "markdown",
   "metadata": {},
   "source": [
    "That brings us to entropy and information gain.\n",
    "\n",
    "\n",
    "Let's take a quick detour and build entropy and information gain. We'll use information gain to pick an attribute (and measure how well it splits the data)"
   ]
  },
  {
   "cell_type": "markdown",
   "metadata": {},
   "source": [
    "### Entropy and Information Gain"
   ]
  },
  {
   "cell_type": "code",
   "execution_count": 396,
   "metadata": {
    "collapsed": true
   },
   "outputs": [],
   "source": [
    "import math\n",
    "\n",
    "def entropy(examples):\n",
    "    '''\n",
    "    Computes entropy of samples\n",
    "    \n",
    "    The min entropy is 0.0, the max entropy is log2(n), where n is number of classes.\n",
    "    \n",
    "    Parameters\n",
    "    examples -- list of number of examples per class\n",
    "    '''\n",
    "    total = sum(examples)\n",
    "    entropy = 0.0\n",
    "    \n",
    "    # filter out classes with 0 examples to compute - p * log(p) \n",
    "    # (i.e., we define 0 * log(0) == 0)\n",
    "    for n in filter(None, examples):\n",
    "        entropy -= (n/total) * math.log(n/total , 2)\n",
    "    return entropy"
   ]
  },
  {
   "cell_type": "markdown",
   "metadata": {},
   "source": [
    "We use entropy to measure the \"purity\" of a node. A node is 100% pure (entropy == 0.0) if it contains examples of the same class.\n",
    "\n",
    "When a node is 100% impure, we'll get log2(n), where n is the number of classes."
   ]
  },
  {
   "cell_type": "code",
   "execution_count": 397,
   "metadata": {
    "collapsed": false
   },
   "outputs": [
    {
     "data": {
      "text/plain": [
       "True"
      ]
     },
     "execution_count": 397,
     "metadata": {},
     "output_type": "execute_result"
    }
   ],
   "source": [
    "0 == entropy([10]) # 100% pure, all same class"
   ]
  },
  {
   "cell_type": "code",
   "execution_count": 398,
   "metadata": {
    "collapsed": false
   },
   "outputs": [
    {
     "data": {
      "text/plain": [
       "True"
      ]
     },
     "execution_count": 398,
     "metadata": {},
     "output_type": "execute_result"
    }
   ],
   "source": [
    "1 == entropy([5, 5]) # Max impurity, two classes, data is split across classes equally"
   ]
  },
  {
   "cell_type": "code",
   "execution_count": 399,
   "metadata": {
    "collapsed": false
   },
   "outputs": [
    {
     "data": {
      "text/plain": [
       "0.9182958340544896"
      ]
     },
     "execution_count": 399,
     "metadata": {},
     "output_type": "execute_result"
    }
   ],
   "source": [
    "entropy([5, 10])  # impure"
   ]
  },
  {
   "cell_type": "code",
   "execution_count": 400,
   "metadata": {
    "collapsed": false
   },
   "outputs": [
    {
     "data": {
      "text/plain": [
       "0.4689955935892812"
      ]
     },
     "execution_count": 400,
     "metadata": {},
     "output_type": "execute_result"
    }
   ],
   "source": [
    "entropy([9, 1])  # 9 examples of 1 class, 1 example of another"
   ]
  },
  {
   "cell_type": "code",
   "execution_count": 401,
   "metadata": {
    "collapsed": false
   },
   "outputs": [
    {
     "data": {
      "text/plain": [
       "0.1392329990550989"
      ]
     },
     "execution_count": 401,
     "metadata": {},
     "output_type": "execute_result"
    }
   ],
   "source": [
    "entropy([50, 1]) # purer split"
   ]
  },
  {
   "cell_type": "code",
   "execution_count": 402,
   "metadata": {
    "collapsed": false
   },
   "outputs": [
    {
     "data": {
      "text/plain": [
       "0.08079313589591118"
      ]
     },
     "execution_count": 402,
     "metadata": {},
     "output_type": "execute_result"
    }
   ],
   "source": [
    "entropy([99, 1])"
   ]
  },
  {
   "cell_type": "code",
   "execution_count": 403,
   "metadata": {
    "collapsed": false
   },
   "outputs": [
    {
     "data": {
      "text/plain": [
       "0.0014729006652121114"
      ]
     },
     "execution_count": 403,
     "metadata": {},
     "output_type": "execute_result"
    }
   ],
   "source": [
    "entropy([10000, 1])"
   ]
  },
  {
   "cell_type": "code",
   "execution_count": 404,
   "metadata": {
    "collapsed": false
   },
   "outputs": [
    {
     "data": {
      "text/plain": [
       "2.137424295738942e-05"
      ]
     },
     "execution_count": 404,
     "metadata": {},
     "output_type": "execute_result"
    }
   ],
   "source": [
    "entropy([10**6, 1]) # almost pure"
   ]
  },
  {
   "cell_type": "code",
   "execution_count": 405,
   "metadata": {
    "collapsed": false
   },
   "outputs": [
    {
     "name": "stdout",
     "output_type": "stream",
     "text": [
      "2.584962500721156\n"
     ]
    },
    {
     "data": {
      "text/plain": [
       "True"
      ]
     },
     "execution_count": 405,
     "metadata": {},
     "output_type": "execute_result"
    }
   ],
   "source": [
    "print(math.log2(6))\n",
    "math.log2(6) == entropy([1,1,1,1,1,1])  # Max impurity, 6 classes\n"
   ]
  },
  {
   "cell_type": "markdown",
   "metadata": {},
   "source": [
    "#### Gain"
   ]
  },
  {
   "cell_type": "code",
   "execution_count": 406,
   "metadata": {
    "collapsed": false
   },
   "outputs": [],
   "source": [
    "def gain(examples, classfn, classes, attrfn, attrvals):\n",
    "    '''\n",
    "    Calculates information gain after splitting on an attribute\n",
    "    \n",
    "    Parameters\n",
    "    examples - list of examples. Each example has attributes.\n",
    "    class_fn - function that returns the class of an example.\n",
    "    classes  - list of all classses\n",
    "    attrfn   - function that returns the value of a specific attribute given an example.\n",
    "       e.g., attrnfn(example) -> attribute value\n",
    "    attrvals - list of all possible values for the attribute used for this split\n",
    "       e.g., [1, 2, 3], or ['red', 'yellow', 'green']\n",
    "    \n",
    "    '''\n",
    "\n",
    "    en = entropy(counts_per_class(examples, classfn, classes))    \n",
    "    total = len(examples)\n",
    "\n",
    "    for val in attrvals:\n",
    "        # Get all examples whose value for the attribute is val\n",
    "        sv = list(filter(lambda example: attrfn(example) == val, examples))\n",
    "        en -= len(sv)/total * entropy(counts_per_class(sv, classfn, classes))\n",
    "    return en"
   ]
  },
  {
   "cell_type": "code",
   "execution_count": 407,
   "metadata": {
    "collapsed": false
   },
   "outputs": [],
   "source": [
    "moon_day_examples = [\n",
    "    ['clear', 'cold', 'winter', 'moon'],\n",
    "    ['rainy', 'warm', 'spring', 'no-moon'],\n",
    "    ['cloudy', 'cold', 'winter', 'no-moon'],\n",
    "    ['clear', 'warm', 'summer', 'moon'],\n",
    "    ['rainy', 'cold', 'fall', 'no-moon'],\n",
    "    ['rainy', 'cold', 'spring', 'no-moon'],\n",
    "    ['clear', 'cold', 'spring', 'moon'],\n",
    "]"
   ]
  },
  {
   "cell_type": "code",
   "execution_count": 408,
   "metadata": {
    "collapsed": true
   },
   "outputs": [],
   "source": [
    "def moon(example):\n",
    "    return example[3]"
   ]
  },
  {
   "cell_type": "code",
   "execution_count": 409,
   "metadata": {
    "collapsed": true
   },
   "outputs": [],
   "source": [
    "def counts_per_class(examples, classfn, classes):\n",
    "    '''\n",
    "     Returns the distribution of classes for a subset of examples.\n",
    "       e.g., classfn(examples) -> [3, 4, 5]  (3 are of class 0, 4 of class 1, 5 of class 2)\n",
    "    '''\n",
    "    dist = dict()\n",
    "    for cls in classes:\n",
    "        dist[cls] = 0\n",
    "    \n",
    "    for example in examples:\n",
    "        cls = classfn(example)\n",
    "        dist[cls] += 1\n",
    "    \n",
    "    flat_dist = []\n",
    "    for cls in classes:\n",
    "        flat_dist.append(dist[cls])\n",
    "    return flat_dist"
   ]
  },
  {
   "cell_type": "code",
   "execution_count": 410,
   "metadata": {
    "collapsed": false
   },
   "outputs": [
    {
     "data": {
      "text/plain": [
       "[3, 4]"
      ]
     },
     "execution_count": 410,
     "metadata": {},
     "output_type": "execute_result"
    }
   ],
   "source": [
    "counts_per_class(moon_day_examples, moon, ['moon', 'no-moon'])  # 3 'moon' and 4 'non-moon'"
   ]
  },
  {
   "cell_type": "code",
   "execution_count": 411,
   "metadata": {
    "collapsed": true
   },
   "outputs": [],
   "source": [
    "def sky_condition(example): return example[0]\n",
    "def temp(example): return example[1]\n",
    "def season(example): return example[2]"
   ]
  },
  {
   "cell_type": "code",
   "execution_count": 412,
   "metadata": {
    "collapsed": true
   },
   "outputs": [],
   "source": [
    "def attrvalues(examples, attrfn):\n",
    "    return set(attrfn(example) for example in examples)"
   ]
  },
  {
   "cell_type": "code",
   "execution_count": 413,
   "metadata": {
    "collapsed": true
   },
   "outputs": [],
   "source": [
    "classes = ['moon', 'no-moon']"
   ]
  },
  {
   "cell_type": "code",
   "execution_count": 414,
   "metadata": {
    "collapsed": false
   },
   "outputs": [
    {
     "data": {
      "text/plain": [
       "{'clear', 'cloudy', 'rainy'}"
      ]
     },
     "execution_count": 414,
     "metadata": {},
     "output_type": "execute_result"
    }
   ],
   "source": [
    "sky = attrvalues(moon_day_examples, sky_condition)\n",
    "sky"
   ]
  },
  {
   "cell_type": "markdown",
   "metadata": {},
   "source": [
    "What's the gain if we split by **sky condition**?"
   ]
  },
  {
   "cell_type": "code",
   "execution_count": 415,
   "metadata": {
    "collapsed": false
   },
   "outputs": [
    {
     "data": {
      "text/plain": [
       "0.9852281360342516"
      ]
     },
     "execution_count": 415,
     "metadata": {},
     "output_type": "execute_result"
    }
   ],
   "source": [
    "gain(moon_day_examples, moon, classes, sky_condition, sky)"
   ]
  },
  {
   "cell_type": "markdown",
   "metadata": {},
   "source": [
    "What's the gain if we split by **temperature**?"
   ]
  },
  {
   "cell_type": "code",
   "execution_count": 416,
   "metadata": {
    "collapsed": false
   },
   "outputs": [
    {
     "data": {
      "text/plain": [
       "0.005977711423774124"
      ]
     },
     "execution_count": 416,
     "metadata": {},
     "output_type": "execute_result"
    }
   ],
   "source": [
    "temp_values = attrvalues(moon_day_examples, temp)\n",
    "gain(moon_day_examples, moon, classes, temp, temp_values)"
   ]
  },
  {
   "cell_type": "markdown",
   "metadata": {},
   "source": [
    "What's the gain if we split by **season**?"
   ]
  },
  {
   "cell_type": "code",
   "execution_count": 417,
   "metadata": {
    "collapsed": false
   },
   "outputs": [
    {
     "data": {
      "text/plain": [
       "0.3059584928680419"
      ]
     },
     "execution_count": 417,
     "metadata": {},
     "output_type": "execute_result"
    }
   ],
   "source": [
    "season_values = attrvalues(moon_day_examples, season)\n",
    "gain(moon_day_examples, moon, classes, season, season_values)"
   ]
  },
  {
   "cell_type": "markdown",
   "metadata": {},
   "source": [
    "As expected, sky condition is the best split to figure out which day we'll see the moon"
   ]
  },
  {
   "cell_type": "markdown",
   "metadata": {},
   "source": [
    "Another example: when to play tennis?"
   ]
  },
  {
   "cell_type": "code",
   "execution_count": 418,
   "metadata": {
    "collapsed": false
   },
   "outputs": [],
   "source": [
    "tennis_dataset = [line.split() for line in \"\"\"\n",
    "sunny    hot  high   weak   no\n",
    "sunny    hot  high   strong no\n",
    "overcast hot  high   weak   yes\n",
    "rain     mild high   weak   yes\n",
    "rain     cool normal weak   yes\n",
    "rain     cool normal strong no\n",
    "overcast cool normal strong yes\n",
    "sunny    mild high   weak   no\n",
    "sunny    cool normal weak   yes\n",
    "rain     mild normal weak   yes\n",
    "sunny    mild normal strong yes\n",
    "overcast mild high   strong yes\n",
    "overcast hot  normal weak   yes\n",
    "rain     mild high   strong no\n",
    "\"\"\".split('\\n')[1:-1]]"
   ]
  },
  {
   "cell_type": "code",
   "execution_count": 419,
   "metadata": {
    "collapsed": false
   },
   "outputs": [
    {
     "data": {
      "text/plain": [
       "[['sunny', 'hot', 'high', 'weak', 'no'],\n",
       " ['sunny', 'hot', 'high', 'strong', 'no'],\n",
       " ['overcast', 'hot', 'high', 'weak', 'yes'],\n",
       " ['rain', 'mild', 'high', 'weak', 'yes'],\n",
       " ['rain', 'cool', 'normal', 'weak', 'yes'],\n",
       " ['rain', 'cool', 'normal', 'strong', 'no'],\n",
       " ['overcast', 'cool', 'normal', 'strong', 'yes'],\n",
       " ['sunny', 'mild', 'high', 'weak', 'no'],\n",
       " ['sunny', 'cool', 'normal', 'weak', 'yes'],\n",
       " ['rain', 'mild', 'normal', 'weak', 'yes'],\n",
       " ['sunny', 'mild', 'normal', 'strong', 'yes'],\n",
       " ['overcast', 'mild', 'high', 'strong', 'yes'],\n",
       " ['overcast', 'hot', 'normal', 'weak', 'yes'],\n",
       " ['rain', 'mild', 'high', 'strong', 'no']]"
      ]
     },
     "execution_count": 419,
     "metadata": {},
     "output_type": "execute_result"
    }
   ],
   "source": [
    "tennis_dataset"
   ]
  },
  {
   "cell_type": "code",
   "execution_count": 420,
   "metadata": {
    "collapsed": true
   },
   "outputs": [],
   "source": [
    "def outlook(x): return x[0]\n",
    "def temperature(x): return x[1]\n",
    "def humidity(x): return x[2]\n",
    "def wind(x): return x[3]\n",
    "\n",
    "def play_tennis(x): return x[4]"
   ]
  },
  {
   "cell_type": "code",
   "execution_count": 421,
   "metadata": {
    "collapsed": false
   },
   "outputs": [
    {
     "data": {
      "text/plain": [
       "0.2467498197744391"
      ]
     },
     "execution_count": 421,
     "metadata": {},
     "output_type": "execute_result"
    }
   ],
   "source": [
    "outlook_values = attrvalues(tennis_dataset, outlook)\n",
    "gain(tennis_dataset, play_tennis, ['no', 'yes'], outlook, outlook_values)"
   ]
  },
  {
   "cell_type": "code",
   "execution_count": 422,
   "metadata": {
    "collapsed": false
   },
   "outputs": [
    {
     "data": {
      "text/plain": [
       "0.15183550136234136"
      ]
     },
     "execution_count": 422,
     "metadata": {},
     "output_type": "execute_result"
    }
   ],
   "source": [
    "humidity_values = attrvalues(tennis_dataset, humidity)\n",
    "gain(tennis_dataset, play_tennis, ['no', 'yes'], humidity, humidity_values)"
   ]
  },
  {
   "cell_type": "code",
   "execution_count": 423,
   "metadata": {
    "collapsed": false
   },
   "outputs": [
    {
     "data": {
      "text/plain": [
       "0.04812703040826927"
      ]
     },
     "execution_count": 423,
     "metadata": {},
     "output_type": "execute_result"
    }
   ],
   "source": [
    "wind_values = attrvalues(tennis_dataset, wind)\n",
    "gain(tennis_dataset, play_tennis, ['no', 'yes'], wind, wind_values)"
   ]
  },
  {
   "cell_type": "code",
   "execution_count": 424,
   "metadata": {
    "collapsed": false
   },
   "outputs": [
    {
     "data": {
      "text/plain": [
       "0.029222565658954647"
      ]
     },
     "execution_count": 424,
     "metadata": {},
     "output_type": "execute_result"
    }
   ],
   "source": [
    "temperature_values = attrvalues(tennis_dataset, temperature)\n",
    "gain(tennis_dataset, play_tennis, ['no', 'yes'], temperature, temperature_values)"
   ]
  },
  {
   "cell_type": "markdown",
   "metadata": {},
   "source": [
    "Outlook is the best way to split our data first!"
   ]
  },
  {
   "cell_type": "markdown",
   "metadata": {},
   "source": [
    "Let's use an interesting dataset"
   ]
  },
  {
   "cell_type": "markdown",
   "metadata": {},
   "source": [
    "### Credit Card Application Dataset\n",
    "\n",
    "https://archive.ics.uci.edu/ml/datasets/Credit+Approval"
   ]
  },
  {
   "cell_type": "code",
   "execution_count": 425,
   "metadata": {
    "collapsed": true
   },
   "outputs": [],
   "source": [
    "import pandas as pd"
   ]
  },
  {
   "cell_type": "code",
   "execution_count": 426,
   "metadata": {
    "collapsed": true
   },
   "outputs": [],
   "source": [
    "cc_data = pd.read_csv('dataset/crx.data', header=None)"
   ]
  },
  {
   "cell_type": "code",
   "execution_count": 427,
   "metadata": {
    "collapsed": false
   },
   "outputs": [
    {
     "data": {
      "text/html": [
       "<div>\n",
       "<table border=\"1\" class=\"dataframe\">\n",
       "  <thead>\n",
       "    <tr style=\"text-align: right;\">\n",
       "      <th></th>\n",
       "      <th>0</th>\n",
       "      <th>1</th>\n",
       "      <th>2</th>\n",
       "      <th>3</th>\n",
       "      <th>4</th>\n",
       "      <th>5</th>\n",
       "      <th>6</th>\n",
       "      <th>7</th>\n",
       "      <th>8</th>\n",
       "      <th>9</th>\n",
       "      <th>10</th>\n",
       "      <th>11</th>\n",
       "      <th>12</th>\n",
       "      <th>13</th>\n",
       "      <th>14</th>\n",
       "      <th>15</th>\n",
       "    </tr>\n",
       "  </thead>\n",
       "  <tbody>\n",
       "    <tr>\n",
       "      <th>0</th>\n",
       "      <td>b</td>\n",
       "      <td>30.83</td>\n",
       "      <td>0.000</td>\n",
       "      <td>u</td>\n",
       "      <td>g</td>\n",
       "      <td>w</td>\n",
       "      <td>v</td>\n",
       "      <td>1.25</td>\n",
       "      <td>t</td>\n",
       "      <td>t</td>\n",
       "      <td>1</td>\n",
       "      <td>f</td>\n",
       "      <td>g</td>\n",
       "      <td>00202</td>\n",
       "      <td>0</td>\n",
       "      <td>+</td>\n",
       "    </tr>\n",
       "    <tr>\n",
       "      <th>1</th>\n",
       "      <td>a</td>\n",
       "      <td>58.67</td>\n",
       "      <td>4.460</td>\n",
       "      <td>u</td>\n",
       "      <td>g</td>\n",
       "      <td>q</td>\n",
       "      <td>h</td>\n",
       "      <td>3.04</td>\n",
       "      <td>t</td>\n",
       "      <td>t</td>\n",
       "      <td>6</td>\n",
       "      <td>f</td>\n",
       "      <td>g</td>\n",
       "      <td>00043</td>\n",
       "      <td>560</td>\n",
       "      <td>+</td>\n",
       "    </tr>\n",
       "    <tr>\n",
       "      <th>2</th>\n",
       "      <td>a</td>\n",
       "      <td>24.50</td>\n",
       "      <td>0.500</td>\n",
       "      <td>u</td>\n",
       "      <td>g</td>\n",
       "      <td>q</td>\n",
       "      <td>h</td>\n",
       "      <td>1.50</td>\n",
       "      <td>t</td>\n",
       "      <td>f</td>\n",
       "      <td>0</td>\n",
       "      <td>f</td>\n",
       "      <td>g</td>\n",
       "      <td>00280</td>\n",
       "      <td>824</td>\n",
       "      <td>+</td>\n",
       "    </tr>\n",
       "    <tr>\n",
       "      <th>3</th>\n",
       "      <td>b</td>\n",
       "      <td>27.83</td>\n",
       "      <td>1.540</td>\n",
       "      <td>u</td>\n",
       "      <td>g</td>\n",
       "      <td>w</td>\n",
       "      <td>v</td>\n",
       "      <td>3.75</td>\n",
       "      <td>t</td>\n",
       "      <td>t</td>\n",
       "      <td>5</td>\n",
       "      <td>t</td>\n",
       "      <td>g</td>\n",
       "      <td>00100</td>\n",
       "      <td>3</td>\n",
       "      <td>+</td>\n",
       "    </tr>\n",
       "    <tr>\n",
       "      <th>4</th>\n",
       "      <td>b</td>\n",
       "      <td>20.17</td>\n",
       "      <td>5.625</td>\n",
       "      <td>u</td>\n",
       "      <td>g</td>\n",
       "      <td>w</td>\n",
       "      <td>v</td>\n",
       "      <td>1.71</td>\n",
       "      <td>t</td>\n",
       "      <td>f</td>\n",
       "      <td>0</td>\n",
       "      <td>f</td>\n",
       "      <td>s</td>\n",
       "      <td>00120</td>\n",
       "      <td>0</td>\n",
       "      <td>+</td>\n",
       "    </tr>\n",
       "  </tbody>\n",
       "</table>\n",
       "</div>"
      ],
      "text/plain": [
       "  0      1      2  3  4  5  6     7  8  9   10 11 12     13   14 15\n",
       "0  b  30.83  0.000  u  g  w  v  1.25  t  t   1  f  g  00202    0  +\n",
       "1  a  58.67  4.460  u  g  q  h  3.04  t  t   6  f  g  00043  560  +\n",
       "2  a  24.50  0.500  u  g  q  h  1.50  t  f   0  f  g  00280  824  +\n",
       "3  b  27.83  1.540  u  g  w  v  3.75  t  t   5  t  g  00100    3  +\n",
       "4  b  20.17  5.625  u  g  w  v  1.71  t  f   0  f  s  00120    0  +"
      ]
     },
     "execution_count": 427,
     "metadata": {},
     "output_type": "execute_result"
    }
   ],
   "source": [
    "cc_data.head()"
   ]
  },
  {
   "cell_type": "markdown",
   "metadata": {},
   "source": [
    "Column 15 is the class. \n",
    "\n",
    "\"+\" means the credit card application was approved\n",
    "\n",
    "\"-\" means it was denied\n"
   ]
  },
  {
   "cell_type": "code",
   "execution_count": 428,
   "metadata": {
    "collapsed": false
   },
   "outputs": [
    {
     "data": {
      "text/plain": [
       "(690, 16)"
      ]
     },
     "execution_count": 428,
     "metadata": {},
     "output_type": "execute_result"
    }
   ],
   "source": [
    "cc_data.shape"
   ]
  },
  {
   "cell_type": "code",
   "execution_count": 429,
   "metadata": {
    "collapsed": false
   },
   "outputs": [
    {
     "data": {
      "text/html": [
       "<div>\n",
       "<table border=\"1\" class=\"dataframe\">\n",
       "  <thead>\n",
       "    <tr style=\"text-align: right;\">\n",
       "      <th></th>\n",
       "      <th>0</th>\n",
       "      <th>1</th>\n",
       "      <th>2</th>\n",
       "      <th>3</th>\n",
       "      <th>4</th>\n",
       "      <th>5</th>\n",
       "      <th>6</th>\n",
       "      <th>7</th>\n",
       "      <th>8</th>\n",
       "      <th>9</th>\n",
       "      <th>10</th>\n",
       "      <th>11</th>\n",
       "      <th>12</th>\n",
       "      <th>13</th>\n",
       "      <th>14</th>\n",
       "      <th>15</th>\n",
       "    </tr>\n",
       "  </thead>\n",
       "  <tbody>\n",
       "    <tr>\n",
       "      <th>0</th>\n",
       "      <td>a</td>\n",
       "      <td>38.33</td>\n",
       "      <td>4.415</td>\n",
       "      <td>u</td>\n",
       "      <td>g</td>\n",
       "      <td>c</td>\n",
       "      <td>v</td>\n",
       "      <td>0.125</td>\n",
       "      <td>f</td>\n",
       "      <td>f</td>\n",
       "      <td>0</td>\n",
       "      <td>f</td>\n",
       "      <td>g</td>\n",
       "      <td>00160</td>\n",
       "      <td>0</td>\n",
       "      <td>-</td>\n",
       "    </tr>\n",
       "    <tr>\n",
       "      <th>1</th>\n",
       "      <td>b</td>\n",
       "      <td>22.92</td>\n",
       "      <td>3.165</td>\n",
       "      <td>y</td>\n",
       "      <td>p</td>\n",
       "      <td>c</td>\n",
       "      <td>v</td>\n",
       "      <td>0.165</td>\n",
       "      <td>f</td>\n",
       "      <td>f</td>\n",
       "      <td>0</td>\n",
       "      <td>f</td>\n",
       "      <td>g</td>\n",
       "      <td>00160</td>\n",
       "      <td>1058</td>\n",
       "      <td>-</td>\n",
       "    </tr>\n",
       "    <tr>\n",
       "      <th>2</th>\n",
       "      <td>b</td>\n",
       "      <td>49.17</td>\n",
       "      <td>2.290</td>\n",
       "      <td>u</td>\n",
       "      <td>g</td>\n",
       "      <td>ff</td>\n",
       "      <td>ff</td>\n",
       "      <td>0.290</td>\n",
       "      <td>f</td>\n",
       "      <td>f</td>\n",
       "      <td>0</td>\n",
       "      <td>f</td>\n",
       "      <td>g</td>\n",
       "      <td>00200</td>\n",
       "      <td>3</td>\n",
       "      <td>-</td>\n",
       "    </tr>\n",
       "    <tr>\n",
       "      <th>3</th>\n",
       "      <td>b</td>\n",
       "      <td>22.25</td>\n",
       "      <td>0.460</td>\n",
       "      <td>u</td>\n",
       "      <td>g</td>\n",
       "      <td>k</td>\n",
       "      <td>v</td>\n",
       "      <td>0.125</td>\n",
       "      <td>f</td>\n",
       "      <td>f</td>\n",
       "      <td>0</td>\n",
       "      <td>t</td>\n",
       "      <td>g</td>\n",
       "      <td>00280</td>\n",
       "      <td>55</td>\n",
       "      <td>-</td>\n",
       "    </tr>\n",
       "    <tr>\n",
       "      <th>4</th>\n",
       "      <td>b</td>\n",
       "      <td>50.75</td>\n",
       "      <td>0.585</td>\n",
       "      <td>u</td>\n",
       "      <td>g</td>\n",
       "      <td>ff</td>\n",
       "      <td>ff</td>\n",
       "      <td>0.000</td>\n",
       "      <td>f</td>\n",
       "      <td>f</td>\n",
       "      <td>0</td>\n",
       "      <td>f</td>\n",
       "      <td>g</td>\n",
       "      <td>00145</td>\n",
       "      <td>0</td>\n",
       "      <td>-</td>\n",
       "    </tr>\n",
       "  </tbody>\n",
       "</table>\n",
       "</div>"
      ],
      "text/plain": [
       "  0      1      2  3  4   5   6      7  8  9   10 11 12     13    14 15\n",
       "0  a  38.33  4.415  u  g   c   v  0.125  f  f   0  f  g  00160     0  -\n",
       "1  b  22.92  3.165  y  p   c   v  0.165  f  f   0  f  g  00160  1058  -\n",
       "2  b  49.17  2.290  u  g  ff  ff  0.290  f  f   0  f  g  00200     3  -\n",
       "3  b  22.25  0.460  u  g   k   v  0.125  f  f   0  t  g  00280    55  -\n",
       "4  b  50.75  0.585  u  g  ff  ff  0.000  f  f   0  f  g  00145     0  -"
      ]
     },
     "execution_count": 429,
     "metadata": {},
     "output_type": "execute_result"
    }
   ],
   "source": [
    "import numpy as np\n",
    "shuffled_data = cc_data.sample(frac=1).reset_index(drop=True)\n",
    "shuffled_data.head()"
   ]
  },
  {
   "cell_type": "code",
   "execution_count": 430,
   "metadata": {
    "collapsed": false
   },
   "outputs": [],
   "source": [
    "def cc_split(samples, attrfns, classfn):\n",
    "    # Compute information gain for every attfn used\n",
    "    gains = []\n",
    "    for attrfn in attrfns:\n",
    "        g = gain(samples, classfn, ['+', '-'], attrfn, attrvalues(samples, attrfn))\n",
    "        gains.append((g, attrfn))\n",
    "    \n",
    "    g, fn = max(gains, key=lambda x: x[0])\n",
    "    print(\"max gain is {0}: {1}\".format(fn.__name__, g))     \n",
    "    groups = group_by_fn(samples, fn)\n",
    "    for key, val in groups.items():\n",
    "        print(\"{0}: {1}\".format(key, len(val)))\n",
    "    return groups, fn"
   ]
  },
  {
   "cell_type": "code",
   "execution_count": 431,
   "metadata": {
    "collapsed": true
   },
   "outputs": [],
   "source": [
    "def group_by_fn(samples, fn):\n",
    "    vals = attrvalues(samples, fn)\n",
    "    groups = dict()\n",
    "\n",
    "    for val in vals:\n",
    "        groups[val] = []\n",
    "\n",
    "    for x in samples:\n",
    "        val = fn(x)\n",
    "        groups[val].append(x)\n",
    "\n",
    "    return groups    "
   ]
  },
  {
   "cell_type": "code",
   "execution_count": 432,
   "metadata": {
    "collapsed": true
   },
   "outputs": [],
   "source": [
    "def cc_class(x): return x[15]"
   ]
  },
  {
   "cell_type": "code",
   "execution_count": 433,
   "metadata": {
    "collapsed": false
   },
   "outputs": [],
   "source": [
    "\n",
    "# Let's build some attribute functions for categorical data\n",
    "\n",
    "def zeroth(x): return x[0]\n",
    "def third(x): return x[3]\n",
    "def fourth(x): return x[4]\n",
    "def fifth(x): return x[5]\n",
    "def sixth(x): return x[6]\n",
    "def eight(x): return x[8]\n",
    "def ninth(x): return x[9]\n",
    "def eleventh(x): return x[11]\n",
    "def twelveth(x): return x[12]\n",
    "\n",
    "cc_att_fns = [zeroth, third, fourth,\n",
    "#               fifth,\n",
    "              sixth, eight, ninth, eleventh, twelveth]"
   ]
  },
  {
   "cell_type": "code",
   "execution_count": 434,
   "metadata": {
    "collapsed": false
   },
   "outputs": [
    {
     "name": "stdout",
     "output_type": "stream",
     "text": [
      "max gain is eight: 0.4996268261304999\n",
      "t: 47\n",
      "f: 53\n"
     ]
    }
   ],
   "source": [
    "groups, fn = cc_split(shuffled_data[:100].values.tolist(), cc_att_fns, cc_class)"
   ]
  },
  {
   "cell_type": "markdown",
   "metadata": {},
   "source": [
    "The eigth attribute gave us the best gain.\n",
    "\n",
    "\n",
    "Here's how this data was split:"
   ]
  },
  {
   "cell_type": "code",
   "execution_count": 435,
   "metadata": {
    "collapsed": false
   },
   "outputs": [
    {
     "name": "stdout",
     "output_type": "stream",
     "text": [
      "t: 47\n",
      "f: 53\n"
     ]
    }
   ],
   "source": [
    "for key, examples in groups.items():\n",
    "    print(\"{0}: {1}\".format(key, len(examples)))\n"
   ]
  },
  {
   "cell_type": "code",
   "execution_count": 436,
   "metadata": {
    "collapsed": false
   },
   "outputs": [
    {
     "name": "stdout",
     "output_type": "stream",
     "text": [
      "max gain is eight: 0.4996268261304999\n",
      "t: 47\n",
      "f: 53\n",
      "max gain is sixth: 0.164936673715314\n",
      "v: 29\n",
      "z: 1\n",
      "h: 12\n",
      "bb: 4\n",
      "?: 1\n",
      "max gain is ninth: 0.0660138650613386\n",
      "f: 11\n",
      "t: 18\n",
      "max gain is third: 0.04417739186726144\n",
      "y: 1\n",
      "u: 10\n",
      "Building leaf with 1 same-class samples\n",
      "Building leaf with class +\n",
      "max gain is eleventh: 0.034851554559677256\n",
      "t: 5\n",
      "f: 5\n",
      "max gain is zeroth: 0.01997309402197489\n",
      "b: 3\n",
      "a: 2\n",
      "max gain is fourth: 0.0\n",
      "g: 3\n",
      "max gain is twelveth: 0.0\n",
      "g: 3\n",
      "Building leaf with 3 samples\n",
      "Building leaf with class +\n",
      "Building internal node with predicate <function twelveth at 0x116ce0268>\n",
      "Building internal node with predicate <function fourth at 0x116cc41e0>\n",
      "max gain is fourth: 0.0\n",
      "g: 2\n",
      "max gain is twelveth: 0.0\n",
      "g: 2\n",
      "Building leaf with 2 samples\n",
      "Building leaf with class -\n",
      "Building internal node with predicate <function twelveth at 0x116ce0268>\n",
      "Building internal node with predicate <function fourth at 0x116cc41e0>\n",
      "Building internal node with predicate <function zeroth at 0x116b58a60>\n",
      "max gain is zeroth: 0.07290559532005603\n",
      "b: 4\n",
      "a: 1\n",
      "max gain is fourth: 0.0\n",
      "g: 4\n",
      "max gain is twelveth: 0.0\n",
      "g: 4\n",
      "Building leaf with 4 samples\n",
      "Building leaf with class +\n",
      "Building internal node with predicate <function twelveth at 0x116ce0268>\n",
      "Building internal node with predicate <function fourth at 0x116cc41e0>\n",
      "Building leaf with 1 same-class samples\n",
      "Building leaf with class +\n",
      "Building internal node with predicate <function zeroth at 0x116b58a60>\n",
      "Building internal node with predicate <function eleventh at 0x116cc4400>\n",
      "Building internal node with predicate <function third at 0x116b58378>\n",
      "max gain is third: 0.3095434291503252\n",
      "y: 1\n",
      "u: 17\n",
      "Building leaf with 1 same-class samples\n",
      "Building leaf with class -\n",
      "Building leaf with 17 same-class samples\n",
      "Building leaf with class +\n",
      "Building internal node with predicate <function third at 0x116b58378>\n",
      "Building internal node with predicate <function ninth at 0x116cc4268>\n",
      "Building leaf with 1 same-class samples\n",
      "Building leaf with class +\n",
      "Building leaf with 12 same-class samples\n",
      "Building leaf with class +\n",
      "max gain is zeroth: 0.31127812445913283\n",
      "b: 3\n",
      "a: 1\n",
      "max gain is third: 0.9182958340544896\n",
      "y: 1\n",
      "u: 2\n",
      "Building leaf with 1 same-class samples\n",
      "Building leaf with class -\n",
      "Building leaf with 2 same-class samples\n",
      "Building leaf with class +\n",
      "Building internal node with predicate <function third at 0x116b58378>\n",
      "Building leaf with 1 same-class samples\n",
      "Building leaf with class -\n",
      "Building internal node with predicate <function zeroth at 0x116b58a60>\n",
      "Building leaf with 1 same-class samples\n",
      "Building leaf with class -\n",
      "Building internal node with predicate <function sixth at 0x114ff1f28>\n",
      "max gain is sixth: 0.18791538547015865\n",
      "ff: 9\n",
      "v: 29\n",
      "h: 7\n",
      "z: 1\n",
      "bb: 4\n",
      "dd: 1\n",
      "o: 1\n",
      "n: 1\n",
      "Building leaf with 9 same-class samples\n",
      "Building leaf with class -\n",
      "max gain is ninth: 0.038606014775873\n",
      "t: 9\n",
      "f: 20\n",
      "Building leaf with 9 same-class samples\n",
      "Building leaf with class -\n",
      "max gain is third: 0.06639716704808474\n",
      "y: 7\n",
      "u: 13\n",
      "Building leaf with 7 same-class samples\n",
      "Building leaf with class -\n",
      "max gain is zeroth: 0.04058044144572848\n",
      "b: 11\n",
      "a: 2\n",
      "max gain is twelveth: 0.027740167559621387\n",
      "g: 10\n",
      "s: 1\n",
      "max gain is eleventh: 0.032268399663386294\n",
      "f: 3\n",
      "t: 7\n",
      "max gain is fourth: 0.0\n",
      "g: 3\n",
      "Building leaf with 3 samples\n",
      "Building leaf with class -\n",
      "Building internal node with predicate <function fourth at 0x116cc41e0>\n",
      "max gain is fourth: 0.0\n",
      "g: 7\n",
      "Building leaf with 7 samples\n",
      "Building leaf with class -\n",
      "Building internal node with predicate <function fourth at 0x116cc41e0>\n",
      "Building internal node with predicate <function eleventh at 0x116cc4400>\n",
      "Building leaf with 1 same-class samples\n",
      "Building leaf with class -\n",
      "Building internal node with predicate <function twelveth at 0x116ce0268>\n",
      "Building leaf with 2 same-class samples\n",
      "Building leaf with class -\n",
      "Building internal node with predicate <function zeroth at 0x116b58a60>\n",
      "Building internal node with predicate <function third at 0x116b58378>\n",
      "Building internal node with predicate <function ninth at 0x116cc4268>\n",
      "Building leaf with 7 same-class samples\n",
      "Building leaf with class -\n",
      "Building leaf with 1 same-class samples\n",
      "Building leaf with class -\n",
      "Building leaf with 4 same-class samples\n",
      "Building leaf with class -\n",
      "Building leaf with 1 same-class samples\n",
      "Building leaf with class -\n",
      "Building leaf with 1 same-class samples\n",
      "Building leaf with class +\n",
      "Building leaf with 1 same-class samples\n",
      "Building leaf with class +\n",
      "Building internal node with predicate <function sixth at 0x114ff1f28>\n",
      "Building internal node with predicate <function eight at 0x116cc4510>\n"
     ]
    }
   ],
   "source": [
    "x = shuffled_data[:100].values.tolist()\n",
    "\n",
    "root = build_tree(x, cc_split, cc_att_fns, cc_class)"
   ]
  },
  {
   "cell_type": "code",
   "execution_count": 441,
   "metadata": {
    "collapsed": true
   },
   "outputs": [],
   "source": [
    "def count_nodes(node):\n",
    "    if not node:\n",
    "        return 0\n",
    "\n",
    "    count = 0\n",
    "    if node.children:\n",
    "        for child in node.children.values():\n",
    "            count += count_nodes(child)\n",
    "    return count + 1"
   ]
  },
  {
   "cell_type": "code",
   "execution_count": 442,
   "metadata": {
    "collapsed": false
   },
   "outputs": [
    {
     "data": {
      "text/plain": [
       "50"
      ]
     },
     "execution_count": 442,
     "metadata": {},
     "output_type": "execute_result"
    }
   ],
   "source": [
    "count_nodes(root)"
   ]
  },
  {
   "cell_type": "markdown",
   "metadata": {
    "collapsed": false
   },
   "source": [
    "### Using Chi-Squared statistic to prevent overfitting"
   ]
  },
  {
   "cell_type": "markdown",
   "metadata": {},
   "source": [
    "\n",
    "|         | Passed           | Failed  | Total |\n",
    "| ------------- |-------------- | ----- | ----- |\n",
    "| Attended      | 25 (18.94)| 6 (12.06) |  31 |\n",
    "| Skipped      |  8 (14.05) | 15 (8.94)  | 23 |\n",
    "|Total | 33 | 21  | 54 |\n",
    "\n",
    "Expected values are in parenthesis. They are computed using this formula:  (RowTotal*ColTotal)/GridTotal\n"
   ]
  },
  {
   "cell_type": "code",
   "execution_count": 443,
   "metadata": {
    "collapsed": true
   },
   "outputs": [],
   "source": [
    "\n",
    "def chi_sqrd(groups):\n",
    "    '''Computes chi-squared statistic\n",
    "       parameters:\n",
    "       groups - list of tuples, where each tuple x,y  represents counts per class\n",
    "    '''\n",
    "    row_totals = []\n",
    "    col_totals = [0.0, 0.0]\n",
    "    \n",
    "    for group in groups:\n",
    "        col_totals[0] = col_totals[0] + group[0]\n",
    "        col_totals[1] = col_totals[1] + group[1]\n",
    "        row_totals.append(sum(group))\n",
    "\n",
    "    grid_total = sum(col_totals)\n",
    "    \n",
    "    expected_values = []\n",
    "    for i, group in enumerate(groups):\n",
    "        a = (row_totals[i] * col_totals[0]) / grid_total\n",
    "        b = (row_totals[i] * col_totals[1]) / grid_total\n",
    "        expected_values.append((a, b))\n",
    "    \n",
    "    chi_sqrd_stat = 0.0\n",
    "    for observed, expected in zip(groups, expected_values):\n",
    "        chi_sqrd_stat += (observed[0] - expected[0]) * (observed[0] - expected[0]) / expected[0]\n",
    "        chi_sqrd_stat += (observed[1] - expected[1]) * (observed[1] - expected[1]) / expected[1]\n",
    "\n",
    "    return chi_sqrd_stat"
   ]
  },
  {
   "cell_type": "code",
   "execution_count": 444,
   "metadata": {
    "collapsed": false
   },
   "outputs": [
    {
     "data": {
      "text/plain": [
       "11.686016648148486"
      ]
     },
     "execution_count": 444,
     "metadata": {},
     "output_type": "execute_result"
    }
   ],
   "source": [
    "chi_sqrd([(25, 6), (8, 15)]) # should be ~ 11.68"
   ]
  },
  {
   "cell_type": "code",
   "execution_count": 445,
   "metadata": {
    "collapsed": false
   },
   "outputs": [],
   "source": [
    "def chi_sqrd_from_groups(a, b, classfn, groups):\n",
    "    ''' computes chi squared statistic after splitting using attribute function attrnf\n",
    "    \n",
    "        parameters:\n",
    "        a       - first class\n",
    "        b       - second class\n",
    "        classfn - function that takes a single sample and returns the class of that sample\n",
    "        groups  - sequence of groups, where each group is a list of samples \n",
    "    '''\n",
    "    # For each group, compute the number of samples per class\n",
    "    group_counts = []\n",
    "    for group in groups:\n",
    "        counts = [0, 0]\n",
    "        for sample in group:\n",
    "            if classfn(sample) == a:\n",
    "                counts[0] += 1\n",
    "            else:\n",
    "                counts[1] += 1\n",
    "        group_counts.append(tuple(counts))\n",
    "    print(\"groups in chi_sqrd_from_groups: \", group_counts)\n",
    "    return chi_sqrd(group_counts)   "
   ]
  },
  {
   "cell_type": "markdown",
   "metadata": {},
   "source": [
    "We can revise our split function to use the chi square statistics"
   ]
  },
  {
   "cell_type": "code",
   "execution_count": 446,
   "metadata": {
    "collapsed": true
   },
   "outputs": [],
   "source": [
    "from scipy import stats\n",
    "\n",
    "def cc_split_chi(samples, attrfns, classfn):\n",
    "    # Compute information gain for every attfn used\n",
    "    gains = []\n",
    "    for attrfn in attrfns:\n",
    "        g = gain(samples, classfn, ['+', '-'], attrfn, attrvalues(samples, attrfn))\n",
    "        gains.append((g, attrfn))\n",
    "    \n",
    "    \n",
    "    splits = sorted(gains, key=lambda x: x[0])\n",
    "    g, fn, p, best_groups = None, None, None, None\n",
    "    for gn, f in splits:\n",
    "        groups = group_by_fn(samples, f)\n",
    "        chi = chi_sqrd_from_groups( '+', '-', classfn, groups.values())\n",
    "        p_value = stats.chi2.pdf(chi , len(groups) - 1)\n",
    "        if p_value <= 0.01:\n",
    "            g, fn, p = gn, f, p_value\n",
    "            best_groups = groups\n",
    "#         else:\n",
    "#             print(\"rejecting split with p value {0}\".format(p_value))\n",
    "\n",
    "\n",
    "    \n",
    "    if best_groups:\n",
    "        print(\"max gain is {0}: {1}. p value {2}\".format(fn.__name__, g, p)) \n",
    "        for key, val in best_groups.items():\n",
    "            print(\"{0}: {1}\".format(key, len(val)))\n",
    "    return best_groups, fn"
   ]
  },
  {
   "cell_type": "code",
   "execution_count": 491,
   "metadata": {
    "collapsed": false
   },
   "outputs": [
    {
     "name": "stdout",
     "output_type": "stream",
     "text": [
      "groups in chi_sqrd_from_groups:  [(83, 97), (105, 129)]\n",
      "groups in chi_sqrd_from_groups:  [(121, 155), (3, 3), (64, 68)]\n",
      "groups in chi_sqrd_from_groups:  [(4, 2), (173, 197), (11, 27)]\n",
      "groups in chi_sqrd_from_groups:  [(2, 0), (26, 71), (3, 2), (157, 153)]\n",
      "groups in chi_sqrd_from_groups:  [(157, 153), (3, 2), (26, 71), (2, 0)]\n",
      "groups in chi_sqrd_from_groups:  [(5, 30), (99, 134), (56, 27), (4, 1), (13, 21), (2, 3), (1, 1), (3, 4), (2, 1), (3, 4)]\n",
      "groups in chi_sqrd_from_groups:  [(127, 51), (61, 175)]\n",
      "groups in chi_sqrd_from_groups:  [(172, 44), (16, 182)]\n",
      "max gain is eight: 0.41971809924006076. p value 1.2933524229004078e-48\n",
      "t: 216\n",
      "f: 198\n",
      "groups in chi_sqrd_from_groups:  [(109, 32), (2, 0), (61, 12)]\n",
      "groups in chi_sqrd_from_groups:  [(77, 26), (95, 18)]\n",
      "groups in chi_sqrd_from_groups:  [(164, 37), (8, 7)]\n",
      "groups in chi_sqrd_from_groups:  [(148, 30), (24, 14)]\n",
      "groups in chi_sqrd_from_groups:  [(24, 14), (148, 30)]\n",
      "groups in chi_sqrd_from_groups:  [(4, 5), (91, 24), (4, 0), (56, 5), (12, 8), (2, 0), (0, 1), (1, 0), (2, 1)]\n",
      "groups in chi_sqrd_from_groups:  [(47, 32), (125, 12)]\n",
      "max gain is ninth: 0.10139980827401707. p value 1.2407632235563298e-08\n",
      "f: 79\n",
      "t: 137\n",
      "groups in chi_sqrd_from_groups:  [(32, 24), (15, 8)]\n",
      "groups in chi_sqrd_from_groups:  [(40, 25), (7, 7)]\n",
      "groups in chi_sqrd_from_groups:  [(9, 9), (38, 23)]\n",
      "groups in chi_sqrd_from_groups:  [(38, 23), (9, 9)]\n",
      "groups in chi_sqrd_from_groups:  [(20, 19), (27, 13)]\n",
      "groups in chi_sqrd_from_groups:  [(1, 3), (24, 17), (18, 4), (2, 6), (1, 0), (0, 1), (1, 1)]\n",
      "Building leaf with 79 samples\n",
      "Building leaf with class +\n",
      "groups in chi_sqrd_from_groups:  [(124, 12), (1, 0)]\n",
      "groups in chi_sqrd_from_groups:  [(77, 8), (2, 0), (46, 4)]\n",
      "groups in chi_sqrd_from_groups:  [(57, 7), (68, 5)]\n",
      "groups in chi_sqrd_from_groups:  [(110, 7), (15, 5)]\n",
      "groups in chi_sqrd_from_groups:  [(15, 5), (110, 7)]\n",
      "groups in chi_sqrd_from_groups:  [(3, 2), (67, 7), (4, 0), (38, 1), (10, 2), (1, 0), (1, 0), (1, 0)]\n",
      "max gain is third: 0.030880496612059993. p value 0.0030093522088055604\n",
      "y: 20\n",
      "u: 117\n",
      "groups in chi_sqrd_from_groups:  [(15, 5)]\n",
      "groups in chi_sqrd_from_groups:  [(15, 5)]\n",
      "groups in chi_sqrd_from_groups:  [(10, 3), (5, 2)]\n",
      "groups in chi_sqrd_from_groups:  [(10, 4), (5, 1)]\n",
      "groups in chi_sqrd_from_groups:  [(0, 1), (8, 2), (5, 1), (1, 1), (1, 0)]\n",
      "Building leaf with 20 samples\n",
      "Building leaf with class +\n",
      "groups in chi_sqrd_from_groups:  [(110, 7)]\n",
      "groups in chi_sqrd_from_groups:  [(109, 7), (1, 0)]\n",
      "groups in chi_sqrd_from_groups:  [(67, 4), (2, 0), (41, 3)]\n",
      "groups in chi_sqrd_from_groups:  [(47, 4), (63, 3)]\n",
      "groups in chi_sqrd_from_groups:  [(3, 1), (59, 5), (4, 0), (33, 0), (9, 1), (1, 0), (1, 0)]\n",
      "Building leaf with 117 samples\n",
      "Building leaf with class +\n",
      "Building internal node with predicate <function third at 0x116b58378>\n",
      "Building internal node with predicate <function ninth at 0x116cc4268>\n",
      "groups in chi_sqrd_from_groups:  [(6, 71), (10, 111)]\n",
      "groups in chi_sqrd_from_groups:  [(2, 39), (14, 143)]\n",
      "groups in chi_sqrd_from_groups:  [(12, 123), (1, 3), (3, 56)]\n",
      "groups in chi_sqrd_from_groups:  [(4, 2), (9, 160), (3, 20)]\n",
      "groups in chi_sqrd_from_groups:  [(1, 25), (8, 110), (0, 22), (0, 1), (1, 13), (0, 3), (1, 1), (3, 3), (1, 1), (1, 3)]\n",
      "groups in chi_sqrd_from_groups:  [(9, 123), (3, 2), (2, 57), (2, 0)]\n",
      "groups in chi_sqrd_from_groups:  [(2, 0), (2, 57), (3, 2), (9, 123)]\n",
      "max gain is third: 0.07745762422605931. p value 1.247074148656113e-09\n",
      "l: 2\n",
      "y: 59\n",
      "?: 5\n",
      "u: 132\n",
      "Building leaf with 2 same-class samples\n",
      "Building leaf with class +\n",
      "groups in chi_sqrd_from_groups:  [(2, 57)]\n",
      "groups in chi_sqrd_from_groups:  [(0, 4), (2, 53)]\n",
      "groups in chi_sqrd_from_groups:  [(2, 52), (0, 5)]\n",
      "groups in chi_sqrd_from_groups:  [(2, 41), (0, 1), (0, 15)]\n",
      "groups in chi_sqrd_from_groups:  [(0, 9), (2, 33), (0, 9), (0, 3), (0, 1), (0, 1), (0, 1)]\n",
      "groups in chi_sqrd_from_groups:  [(2, 20), (0, 37)]\n",
      "Building leaf with 59 samples\n",
      "Building leaf with class -\n",
      "groups in chi_sqrd_from_groups:  [(3, 2)]\n",
      "groups in chi_sqrd_from_groups:  [(3, 2)]\n",
      "groups in chi_sqrd_from_groups:  [(3, 2)]\n",
      "groups in chi_sqrd_from_groups:  [(3, 2)]\n",
      "groups in chi_sqrd_from_groups:  [(3, 2)]\n",
      "groups in chi_sqrd_from_groups:  [(1, 2), (2, 0)]\n",
      "Building leaf with 5 samples\n",
      "Building leaf with class +\n",
      "groups in chi_sqrd_from_groups:  [(9, 123)]\n",
      "groups in chi_sqrd_from_groups:  [(2, 35), (7, 88)]\n",
      "groups in chi_sqrd_from_groups:  [(7, 108), (2, 15)]\n",
      "groups in chi_sqrd_from_groups:  [(2, 51), (7, 72)]\n",
      "groups in chi_sqrd_from_groups:  [(8, 80), (1, 2), (0, 41)]\n",
      "groups in chi_sqrd_from_groups:  [(0, 16), (6, 77), (0, 13), (0, 1), (1, 10), (0, 2), (0, 1), (1, 1), (1, 2)]\n",
      "Building leaf with 132 samples\n",
      "Building leaf with class -\n",
      "Building internal node with predicate <function third at 0x116b58378>\n",
      "Building internal node with predicate <function eight at 0x116cc4510>\n"
     ]
    }
   ],
   "source": [
    "x = shuffled_data[:414].values.tolist()\n",
    "\n",
    "new_root = build_tree(x, cc_split_chi, cc_att_fns, cc_class)"
   ]
  },
  {
   "cell_type": "code",
   "execution_count": 492,
   "metadata": {
    "collapsed": false
   },
   "outputs": [
    {
     "data": {
      "text/plain": [
       "11"
      ]
     },
     "execution_count": 492,
     "metadata": {},
     "output_type": "execute_result"
    }
   ],
   "source": [
    "count_nodes(new_root)"
   ]
  },
  {
   "cell_type": "markdown",
   "metadata": {},
   "source": [
    "Ok, let's start classifying examples"
   ]
  },
  {
   "cell_type": "code",
   "execution_count": 494,
   "metadata": {
    "collapsed": false
   },
   "outputs": [],
   "source": [
    "def classify(root, sample):\n",
    "    node = root\n",
    "    while not isinstance(node, Leaf):\n",
    "        key = node.predicate(sample)\n",
    "        node = node.children[key]\n",
    "    return node.class_label"
   ]
  },
  {
   "cell_type": "code",
   "execution_count": 495,
   "metadata": {
    "collapsed": false
   },
   "outputs": [
    {
     "name": "stdout",
     "output_type": "stream",
     "text": [
      "['a', '38.33', 4.415, 'u', 'g', 'c', 'v', 0.125, 'f', 'f', 0, 'f', 'g', '00160', 0, '-']\n"
     ]
    },
    {
     "data": {
      "text/plain": [
       "'-'"
      ]
     },
     "execution_count": 495,
     "metadata": {},
     "output_type": "execute_result"
    }
   ],
   "source": [
    "print(x[0])\n",
    "classify(new_root, x[0])"
   ]
  },
  {
   "cell_type": "code",
   "execution_count": 468,
   "metadata": {
    "collapsed": false
   },
   "outputs": [
    {
     "name": "stdout",
     "output_type": "stream",
     "text": [
      "['b', '48.17', 3.5, 'u', 'g', 'aa', 'v', 3.5, 't', 'f', 0, 'f', 's', '00230', 0, '+']\n"
     ]
    },
    {
     "data": {
      "text/plain": [
       "'+'"
      ]
     },
     "execution_count": 468,
     "metadata": {},
     "output_type": "execute_result"
    }
   ],
   "source": [
    "print(x[140])\n",
    "classify(new_root, x[140])"
   ]
  },
  {
   "cell_type": "code",
   "execution_count": 472,
   "metadata": {
    "collapsed": false
   },
   "outputs": [
    {
     "name": "stdout",
     "output_type": "stream",
     "text": [
      "['b', '18.50', 2.0, 'u', 'g', 'i', 'v', 1.5, 't', 't', 2, 'f', 'g', '00120', 300, '+']\n"
     ]
    },
    {
     "data": {
      "text/plain": [
       "'+'"
      ]
     },
     "execution_count": 472,
     "metadata": {},
     "output_type": "execute_result"
    }
   ],
   "source": [
    "print(x[500])\n",
    "classify(new_root, x[500])"
   ]
  },
  {
   "cell_type": "code",
   "execution_count": 496,
   "metadata": {
    "collapsed": false
   },
   "outputs": [],
   "source": [
    "test_data = shuffled_data[414:].values.tolist()"
   ]
  },
  {
   "cell_type": "code",
   "execution_count": 499,
   "metadata": {
    "collapsed": true
   },
   "outputs": [],
   "source": [
    "def accuracy(root, test_data, classfn):\n",
    "    correct, wrong = 0, 0\n",
    "    for sample in test_data:\n",
    "        if classfn(sample) == classify(root, sample):\n",
    "            correct += 1\n",
    "        else:\n",
    "            wrong += 1\n",
    "    return correct / (correct + wrong)\n",
    "        "
   ]
  },
  {
   "cell_type": "code",
   "execution_count": 500,
   "metadata": {
    "collapsed": false
   },
   "outputs": [
    {
     "data": {
      "text/plain": [
       "0.8586956521739131"
      ]
     },
     "execution_count": 500,
     "metadata": {},
     "output_type": "execute_result"
    }
   ],
   "source": [
    "accuracy(new_root, test_data, cc_class)"
   ]
  },
  {
   "cell_type": "markdown",
   "metadata": {},
   "source": [
    "How does it compare to sklearn?"
   ]
  },
  {
   "cell_type": "code",
   "execution_count": 578,
   "metadata": {
    "collapsed": false
   },
   "outputs": [],
   "source": [
    "X = shuffled_data[list(range(15))]\n",
    "y = shuffled_data[15]"
   ]
  },
  {
   "cell_type": "code",
   "execution_count": 540,
   "metadata": {
    "collapsed": false
   },
   "outputs": [
    {
     "ename": "ValueError",
     "evalue": "could not convert string to float: '?'",
     "output_type": "error",
     "traceback": [
      "\u001b[0;31m---------------------------------------------------------------------------\u001b[0m",
      "\u001b[0;31mValueError\u001b[0m                                Traceback (most recent call last)",
      "\u001b[0;32m<ipython-input-540-06b3462ae916>\u001b[0m in \u001b[0;36m<module>\u001b[0;34m()\u001b[0m\n\u001b[1;32m      2\u001b[0m \u001b[0;32mfrom\u001b[0m \u001b[0msklearn\u001b[0m \u001b[0;32mimport\u001b[0m \u001b[0mtree\u001b[0m\u001b[0;34m\u001b[0m\u001b[0m\n\u001b[1;32m      3\u001b[0m \u001b[0mclf\u001b[0m \u001b[0;34m=\u001b[0m \u001b[0mtree\u001b[0m\u001b[0;34m.\u001b[0m\u001b[0mDecisionTreeClassifier\u001b[0m\u001b[0;34m(\u001b[0m\u001b[0;34m)\u001b[0m\u001b[0;34m\u001b[0m\u001b[0m\n\u001b[0;32m----> 4\u001b[0;31m \u001b[0mscores\u001b[0m \u001b[0;34m=\u001b[0m \u001b[0mcross_val_score\u001b[0m\u001b[0;34m(\u001b[0m\u001b[0mclf\u001b[0m\u001b[0;34m,\u001b[0m \u001b[0mX\u001b[0m\u001b[0;34m,\u001b[0m \u001b[0my\u001b[0m\u001b[0;34m,\u001b[0m \u001b[0mcv\u001b[0m\u001b[0;34m=\u001b[0m\u001b[0;36m5\u001b[0m\u001b[0;34m)\u001b[0m\u001b[0;34m\u001b[0m\u001b[0m\n\u001b[0m\u001b[1;32m      5\u001b[0m \u001b[0mprint\u001b[0m\u001b[0;34m(\u001b[0m\u001b[0mscores\u001b[0m\u001b[0;34m)\u001b[0m\u001b[0;34m\u001b[0m\u001b[0m\n",
      "\u001b[0;32m/anaconda/lib/python3.6/site-packages/sklearn/model_selection/_validation.py\u001b[0m in \u001b[0;36mcross_val_score\u001b[0;34m(estimator, X, y, groups, scoring, cv, n_jobs, verbose, fit_params, pre_dispatch)\u001b[0m\n\u001b[1;32m    138\u001b[0m                                               \u001b[0mtrain\u001b[0m\u001b[0;34m,\u001b[0m \u001b[0mtest\u001b[0m\u001b[0;34m,\u001b[0m \u001b[0mverbose\u001b[0m\u001b[0;34m,\u001b[0m \u001b[0;32mNone\u001b[0m\u001b[0;34m,\u001b[0m\u001b[0;34m\u001b[0m\u001b[0m\n\u001b[1;32m    139\u001b[0m                                               fit_params)\n\u001b[0;32m--> 140\u001b[0;31m                       for train, test in cv_iter)\n\u001b[0m\u001b[1;32m    141\u001b[0m     \u001b[0;32mreturn\u001b[0m \u001b[0mnp\u001b[0m\u001b[0;34m.\u001b[0m\u001b[0marray\u001b[0m\u001b[0;34m(\u001b[0m\u001b[0mscores\u001b[0m\u001b[0;34m)\u001b[0m\u001b[0;34m[\u001b[0m\u001b[0;34m:\u001b[0m\u001b[0;34m,\u001b[0m \u001b[0;36m0\u001b[0m\u001b[0;34m]\u001b[0m\u001b[0;34m\u001b[0m\u001b[0m\n\u001b[1;32m    142\u001b[0m \u001b[0;34m\u001b[0m\u001b[0m\n",
      "\u001b[0;32m/anaconda/lib/python3.6/site-packages/sklearn/externals/joblib/parallel.py\u001b[0m in \u001b[0;36m__call__\u001b[0;34m(self, iterable)\u001b[0m\n\u001b[1;32m    756\u001b[0m             \u001b[0;31m# was dispatched. In particular this covers the edge\u001b[0m\u001b[0;34m\u001b[0m\u001b[0;34m\u001b[0m\u001b[0m\n\u001b[1;32m    757\u001b[0m             \u001b[0;31m# case of Parallel used with an exhausted iterator.\u001b[0m\u001b[0;34m\u001b[0m\u001b[0;34m\u001b[0m\u001b[0m\n\u001b[0;32m--> 758\u001b[0;31m             \u001b[0;32mwhile\u001b[0m \u001b[0mself\u001b[0m\u001b[0;34m.\u001b[0m\u001b[0mdispatch_one_batch\u001b[0m\u001b[0;34m(\u001b[0m\u001b[0miterator\u001b[0m\u001b[0;34m)\u001b[0m\u001b[0;34m:\u001b[0m\u001b[0;34m\u001b[0m\u001b[0m\n\u001b[0m\u001b[1;32m    759\u001b[0m                 \u001b[0mself\u001b[0m\u001b[0;34m.\u001b[0m\u001b[0m_iterating\u001b[0m \u001b[0;34m=\u001b[0m \u001b[0;32mTrue\u001b[0m\u001b[0;34m\u001b[0m\u001b[0m\n\u001b[1;32m    760\u001b[0m             \u001b[0;32melse\u001b[0m\u001b[0;34m:\u001b[0m\u001b[0;34m\u001b[0m\u001b[0m\n",
      "\u001b[0;32m/anaconda/lib/python3.6/site-packages/sklearn/externals/joblib/parallel.py\u001b[0m in \u001b[0;36mdispatch_one_batch\u001b[0;34m(self, iterator)\u001b[0m\n\u001b[1;32m    606\u001b[0m                 \u001b[0;32mreturn\u001b[0m \u001b[0;32mFalse\u001b[0m\u001b[0;34m\u001b[0m\u001b[0m\n\u001b[1;32m    607\u001b[0m             \u001b[0;32melse\u001b[0m\u001b[0;34m:\u001b[0m\u001b[0;34m\u001b[0m\u001b[0m\n\u001b[0;32m--> 608\u001b[0;31m                 \u001b[0mself\u001b[0m\u001b[0;34m.\u001b[0m\u001b[0m_dispatch\u001b[0m\u001b[0;34m(\u001b[0m\u001b[0mtasks\u001b[0m\u001b[0;34m)\u001b[0m\u001b[0;34m\u001b[0m\u001b[0m\n\u001b[0m\u001b[1;32m    609\u001b[0m                 \u001b[0;32mreturn\u001b[0m \u001b[0;32mTrue\u001b[0m\u001b[0;34m\u001b[0m\u001b[0m\n\u001b[1;32m    610\u001b[0m \u001b[0;34m\u001b[0m\u001b[0m\n",
      "\u001b[0;32m/anaconda/lib/python3.6/site-packages/sklearn/externals/joblib/parallel.py\u001b[0m in \u001b[0;36m_dispatch\u001b[0;34m(self, batch)\u001b[0m\n\u001b[1;32m    569\u001b[0m         \u001b[0mdispatch_timestamp\u001b[0m \u001b[0;34m=\u001b[0m \u001b[0mtime\u001b[0m\u001b[0;34m.\u001b[0m\u001b[0mtime\u001b[0m\u001b[0;34m(\u001b[0m\u001b[0;34m)\u001b[0m\u001b[0;34m\u001b[0m\u001b[0m\n\u001b[1;32m    570\u001b[0m         \u001b[0mcb\u001b[0m \u001b[0;34m=\u001b[0m \u001b[0mBatchCompletionCallBack\u001b[0m\u001b[0;34m(\u001b[0m\u001b[0mdispatch_timestamp\u001b[0m\u001b[0;34m,\u001b[0m \u001b[0mlen\u001b[0m\u001b[0;34m(\u001b[0m\u001b[0mbatch\u001b[0m\u001b[0;34m)\u001b[0m\u001b[0;34m,\u001b[0m \u001b[0mself\u001b[0m\u001b[0;34m)\u001b[0m\u001b[0;34m\u001b[0m\u001b[0m\n\u001b[0;32m--> 571\u001b[0;31m         \u001b[0mjob\u001b[0m \u001b[0;34m=\u001b[0m \u001b[0mself\u001b[0m\u001b[0;34m.\u001b[0m\u001b[0m_backend\u001b[0m\u001b[0;34m.\u001b[0m\u001b[0mapply_async\u001b[0m\u001b[0;34m(\u001b[0m\u001b[0mbatch\u001b[0m\u001b[0;34m,\u001b[0m \u001b[0mcallback\u001b[0m\u001b[0;34m=\u001b[0m\u001b[0mcb\u001b[0m\u001b[0;34m)\u001b[0m\u001b[0;34m\u001b[0m\u001b[0m\n\u001b[0m\u001b[1;32m    572\u001b[0m         \u001b[0mself\u001b[0m\u001b[0;34m.\u001b[0m\u001b[0m_jobs\u001b[0m\u001b[0;34m.\u001b[0m\u001b[0mappend\u001b[0m\u001b[0;34m(\u001b[0m\u001b[0mjob\u001b[0m\u001b[0;34m)\u001b[0m\u001b[0;34m\u001b[0m\u001b[0m\n\u001b[1;32m    573\u001b[0m \u001b[0;34m\u001b[0m\u001b[0m\n",
      "\u001b[0;32m/anaconda/lib/python3.6/site-packages/sklearn/externals/joblib/_parallel_backends.py\u001b[0m in \u001b[0;36mapply_async\u001b[0;34m(self, func, callback)\u001b[0m\n\u001b[1;32m    107\u001b[0m     \u001b[0;32mdef\u001b[0m \u001b[0mapply_async\u001b[0m\u001b[0;34m(\u001b[0m\u001b[0mself\u001b[0m\u001b[0;34m,\u001b[0m \u001b[0mfunc\u001b[0m\u001b[0;34m,\u001b[0m \u001b[0mcallback\u001b[0m\u001b[0;34m=\u001b[0m\u001b[0;32mNone\u001b[0m\u001b[0;34m)\u001b[0m\u001b[0;34m:\u001b[0m\u001b[0;34m\u001b[0m\u001b[0m\n\u001b[1;32m    108\u001b[0m         \u001b[0;34m\"\"\"Schedule a func to be run\"\"\"\u001b[0m\u001b[0;34m\u001b[0m\u001b[0m\n\u001b[0;32m--> 109\u001b[0;31m         \u001b[0mresult\u001b[0m \u001b[0;34m=\u001b[0m \u001b[0mImmediateResult\u001b[0m\u001b[0;34m(\u001b[0m\u001b[0mfunc\u001b[0m\u001b[0;34m)\u001b[0m\u001b[0;34m\u001b[0m\u001b[0m\n\u001b[0m\u001b[1;32m    110\u001b[0m         \u001b[0;32mif\u001b[0m \u001b[0mcallback\u001b[0m\u001b[0;34m:\u001b[0m\u001b[0;34m\u001b[0m\u001b[0m\n\u001b[1;32m    111\u001b[0m             \u001b[0mcallback\u001b[0m\u001b[0;34m(\u001b[0m\u001b[0mresult\u001b[0m\u001b[0;34m)\u001b[0m\u001b[0;34m\u001b[0m\u001b[0m\n",
      "\u001b[0;32m/anaconda/lib/python3.6/site-packages/sklearn/externals/joblib/_parallel_backends.py\u001b[0m in \u001b[0;36m__init__\u001b[0;34m(self, batch)\u001b[0m\n\u001b[1;32m    324\u001b[0m         \u001b[0;31m# Don't delay the application, to avoid keeping the input\u001b[0m\u001b[0;34m\u001b[0m\u001b[0;34m\u001b[0m\u001b[0m\n\u001b[1;32m    325\u001b[0m         \u001b[0;31m# arguments in memory\u001b[0m\u001b[0;34m\u001b[0m\u001b[0;34m\u001b[0m\u001b[0m\n\u001b[0;32m--> 326\u001b[0;31m         \u001b[0mself\u001b[0m\u001b[0;34m.\u001b[0m\u001b[0mresults\u001b[0m \u001b[0;34m=\u001b[0m \u001b[0mbatch\u001b[0m\u001b[0;34m(\u001b[0m\u001b[0;34m)\u001b[0m\u001b[0;34m\u001b[0m\u001b[0m\n\u001b[0m\u001b[1;32m    327\u001b[0m \u001b[0;34m\u001b[0m\u001b[0m\n\u001b[1;32m    328\u001b[0m     \u001b[0;32mdef\u001b[0m \u001b[0mget\u001b[0m\u001b[0;34m(\u001b[0m\u001b[0mself\u001b[0m\u001b[0;34m)\u001b[0m\u001b[0;34m:\u001b[0m\u001b[0;34m\u001b[0m\u001b[0m\n",
      "\u001b[0;32m/anaconda/lib/python3.6/site-packages/sklearn/externals/joblib/parallel.py\u001b[0m in \u001b[0;36m__call__\u001b[0;34m(self)\u001b[0m\n\u001b[1;32m    129\u001b[0m \u001b[0;34m\u001b[0m\u001b[0m\n\u001b[1;32m    130\u001b[0m     \u001b[0;32mdef\u001b[0m \u001b[0m__call__\u001b[0m\u001b[0;34m(\u001b[0m\u001b[0mself\u001b[0m\u001b[0;34m)\u001b[0m\u001b[0;34m:\u001b[0m\u001b[0;34m\u001b[0m\u001b[0m\n\u001b[0;32m--> 131\u001b[0;31m         \u001b[0;32mreturn\u001b[0m \u001b[0;34m[\u001b[0m\u001b[0mfunc\u001b[0m\u001b[0;34m(\u001b[0m\u001b[0;34m*\u001b[0m\u001b[0margs\u001b[0m\u001b[0;34m,\u001b[0m \u001b[0;34m**\u001b[0m\u001b[0mkwargs\u001b[0m\u001b[0;34m)\u001b[0m \u001b[0;32mfor\u001b[0m \u001b[0mfunc\u001b[0m\u001b[0;34m,\u001b[0m \u001b[0margs\u001b[0m\u001b[0;34m,\u001b[0m \u001b[0mkwargs\u001b[0m \u001b[0;32min\u001b[0m \u001b[0mself\u001b[0m\u001b[0;34m.\u001b[0m\u001b[0mitems\u001b[0m\u001b[0;34m]\u001b[0m\u001b[0;34m\u001b[0m\u001b[0m\n\u001b[0m\u001b[1;32m    132\u001b[0m \u001b[0;34m\u001b[0m\u001b[0m\n\u001b[1;32m    133\u001b[0m     \u001b[0;32mdef\u001b[0m \u001b[0m__len__\u001b[0m\u001b[0;34m(\u001b[0m\u001b[0mself\u001b[0m\u001b[0;34m)\u001b[0m\u001b[0;34m:\u001b[0m\u001b[0;34m\u001b[0m\u001b[0m\n",
      "\u001b[0;32m/anaconda/lib/python3.6/site-packages/sklearn/externals/joblib/parallel.py\u001b[0m in \u001b[0;36m<listcomp>\u001b[0;34m(.0)\u001b[0m\n\u001b[1;32m    129\u001b[0m \u001b[0;34m\u001b[0m\u001b[0m\n\u001b[1;32m    130\u001b[0m     \u001b[0;32mdef\u001b[0m \u001b[0m__call__\u001b[0m\u001b[0;34m(\u001b[0m\u001b[0mself\u001b[0m\u001b[0;34m)\u001b[0m\u001b[0;34m:\u001b[0m\u001b[0;34m\u001b[0m\u001b[0m\n\u001b[0;32m--> 131\u001b[0;31m         \u001b[0;32mreturn\u001b[0m \u001b[0;34m[\u001b[0m\u001b[0mfunc\u001b[0m\u001b[0;34m(\u001b[0m\u001b[0;34m*\u001b[0m\u001b[0margs\u001b[0m\u001b[0;34m,\u001b[0m \u001b[0;34m**\u001b[0m\u001b[0mkwargs\u001b[0m\u001b[0;34m)\u001b[0m \u001b[0;32mfor\u001b[0m \u001b[0mfunc\u001b[0m\u001b[0;34m,\u001b[0m \u001b[0margs\u001b[0m\u001b[0;34m,\u001b[0m \u001b[0mkwargs\u001b[0m \u001b[0;32min\u001b[0m \u001b[0mself\u001b[0m\u001b[0;34m.\u001b[0m\u001b[0mitems\u001b[0m\u001b[0;34m]\u001b[0m\u001b[0;34m\u001b[0m\u001b[0m\n\u001b[0m\u001b[1;32m    132\u001b[0m \u001b[0;34m\u001b[0m\u001b[0m\n\u001b[1;32m    133\u001b[0m     \u001b[0;32mdef\u001b[0m \u001b[0m__len__\u001b[0m\u001b[0;34m(\u001b[0m\u001b[0mself\u001b[0m\u001b[0;34m)\u001b[0m\u001b[0;34m:\u001b[0m\u001b[0;34m\u001b[0m\u001b[0m\n",
      "\u001b[0;32m/anaconda/lib/python3.6/site-packages/sklearn/model_selection/_validation.py\u001b[0m in \u001b[0;36m_fit_and_score\u001b[0;34m(estimator, X, y, scorer, train, test, verbose, parameters, fit_params, return_train_score, return_parameters, return_n_test_samples, return_times, error_score)\u001b[0m\n\u001b[1;32m    236\u001b[0m             \u001b[0mestimator\u001b[0m\u001b[0;34m.\u001b[0m\u001b[0mfit\u001b[0m\u001b[0;34m(\u001b[0m\u001b[0mX_train\u001b[0m\u001b[0;34m,\u001b[0m \u001b[0;34m**\u001b[0m\u001b[0mfit_params\u001b[0m\u001b[0;34m)\u001b[0m\u001b[0;34m\u001b[0m\u001b[0m\n\u001b[1;32m    237\u001b[0m         \u001b[0;32melse\u001b[0m\u001b[0;34m:\u001b[0m\u001b[0;34m\u001b[0m\u001b[0m\n\u001b[0;32m--> 238\u001b[0;31m             \u001b[0mestimator\u001b[0m\u001b[0;34m.\u001b[0m\u001b[0mfit\u001b[0m\u001b[0;34m(\u001b[0m\u001b[0mX_train\u001b[0m\u001b[0;34m,\u001b[0m \u001b[0my_train\u001b[0m\u001b[0;34m,\u001b[0m \u001b[0;34m**\u001b[0m\u001b[0mfit_params\u001b[0m\u001b[0;34m)\u001b[0m\u001b[0;34m\u001b[0m\u001b[0m\n\u001b[0m\u001b[1;32m    239\u001b[0m \u001b[0;34m\u001b[0m\u001b[0m\n\u001b[1;32m    240\u001b[0m     \u001b[0;32mexcept\u001b[0m \u001b[0mException\u001b[0m \u001b[0;32mas\u001b[0m \u001b[0me\u001b[0m\u001b[0;34m:\u001b[0m\u001b[0;34m\u001b[0m\u001b[0m\n",
      "\u001b[0;32m/anaconda/lib/python3.6/site-packages/sklearn/tree/tree.py\u001b[0m in \u001b[0;36mfit\u001b[0;34m(self, X, y, sample_weight, check_input, X_idx_sorted)\u001b[0m\n\u001b[1;32m    737\u001b[0m             \u001b[0msample_weight\u001b[0m\u001b[0;34m=\u001b[0m\u001b[0msample_weight\u001b[0m\u001b[0;34m,\u001b[0m\u001b[0;34m\u001b[0m\u001b[0m\n\u001b[1;32m    738\u001b[0m             \u001b[0mcheck_input\u001b[0m\u001b[0;34m=\u001b[0m\u001b[0mcheck_input\u001b[0m\u001b[0;34m,\u001b[0m\u001b[0;34m\u001b[0m\u001b[0m\n\u001b[0;32m--> 739\u001b[0;31m             X_idx_sorted=X_idx_sorted)\n\u001b[0m\u001b[1;32m    740\u001b[0m         \u001b[0;32mreturn\u001b[0m \u001b[0mself\u001b[0m\u001b[0;34m\u001b[0m\u001b[0m\n\u001b[1;32m    741\u001b[0m \u001b[0;34m\u001b[0m\u001b[0m\n",
      "\u001b[0;32m/anaconda/lib/python3.6/site-packages/sklearn/tree/tree.py\u001b[0m in \u001b[0;36mfit\u001b[0;34m(self, X, y, sample_weight, check_input, X_idx_sorted)\u001b[0m\n\u001b[1;32m    120\u001b[0m         \u001b[0mrandom_state\u001b[0m \u001b[0;34m=\u001b[0m \u001b[0mcheck_random_state\u001b[0m\u001b[0;34m(\u001b[0m\u001b[0mself\u001b[0m\u001b[0;34m.\u001b[0m\u001b[0mrandom_state\u001b[0m\u001b[0;34m)\u001b[0m\u001b[0;34m\u001b[0m\u001b[0m\n\u001b[1;32m    121\u001b[0m         \u001b[0;32mif\u001b[0m \u001b[0mcheck_input\u001b[0m\u001b[0;34m:\u001b[0m\u001b[0;34m\u001b[0m\u001b[0m\n\u001b[0;32m--> 122\u001b[0;31m             \u001b[0mX\u001b[0m \u001b[0;34m=\u001b[0m \u001b[0mcheck_array\u001b[0m\u001b[0;34m(\u001b[0m\u001b[0mX\u001b[0m\u001b[0;34m,\u001b[0m \u001b[0mdtype\u001b[0m\u001b[0;34m=\u001b[0m\u001b[0mDTYPE\u001b[0m\u001b[0;34m,\u001b[0m \u001b[0maccept_sparse\u001b[0m\u001b[0;34m=\u001b[0m\u001b[0;34m\"csc\"\u001b[0m\u001b[0;34m)\u001b[0m\u001b[0;34m\u001b[0m\u001b[0m\n\u001b[0m\u001b[1;32m    123\u001b[0m             \u001b[0my\u001b[0m \u001b[0;34m=\u001b[0m \u001b[0mcheck_array\u001b[0m\u001b[0;34m(\u001b[0m\u001b[0my\u001b[0m\u001b[0;34m,\u001b[0m \u001b[0mensure_2d\u001b[0m\u001b[0;34m=\u001b[0m\u001b[0;32mFalse\u001b[0m\u001b[0;34m,\u001b[0m \u001b[0mdtype\u001b[0m\u001b[0;34m=\u001b[0m\u001b[0;32mNone\u001b[0m\u001b[0;34m)\u001b[0m\u001b[0;34m\u001b[0m\u001b[0m\n\u001b[1;32m    124\u001b[0m             \u001b[0;32mif\u001b[0m \u001b[0missparse\u001b[0m\u001b[0;34m(\u001b[0m\u001b[0mX\u001b[0m\u001b[0;34m)\u001b[0m\u001b[0;34m:\u001b[0m\u001b[0;34m\u001b[0m\u001b[0m\n",
      "\u001b[0;32m/anaconda/lib/python3.6/site-packages/sklearn/utils/validation.py\u001b[0m in \u001b[0;36mcheck_array\u001b[0;34m(array, accept_sparse, dtype, order, copy, force_all_finite, ensure_2d, allow_nd, ensure_min_samples, ensure_min_features, warn_on_dtype, estimator)\u001b[0m\n\u001b[1;32m    380\u001b[0m                                       force_all_finite)\n\u001b[1;32m    381\u001b[0m     \u001b[0;32melse\u001b[0m\u001b[0;34m:\u001b[0m\u001b[0;34m\u001b[0m\u001b[0m\n\u001b[0;32m--> 382\u001b[0;31m         \u001b[0marray\u001b[0m \u001b[0;34m=\u001b[0m \u001b[0mnp\u001b[0m\u001b[0;34m.\u001b[0m\u001b[0marray\u001b[0m\u001b[0;34m(\u001b[0m\u001b[0marray\u001b[0m\u001b[0;34m,\u001b[0m \u001b[0mdtype\u001b[0m\u001b[0;34m=\u001b[0m\u001b[0mdtype\u001b[0m\u001b[0;34m,\u001b[0m \u001b[0morder\u001b[0m\u001b[0;34m=\u001b[0m\u001b[0morder\u001b[0m\u001b[0;34m,\u001b[0m \u001b[0mcopy\u001b[0m\u001b[0;34m=\u001b[0m\u001b[0mcopy\u001b[0m\u001b[0;34m)\u001b[0m\u001b[0;34m\u001b[0m\u001b[0m\n\u001b[0m\u001b[1;32m    383\u001b[0m \u001b[0;34m\u001b[0m\u001b[0m\n\u001b[1;32m    384\u001b[0m         \u001b[0;32mif\u001b[0m \u001b[0mensure_2d\u001b[0m\u001b[0;34m:\u001b[0m\u001b[0;34m\u001b[0m\u001b[0m\n",
      "\u001b[0;31mValueError\u001b[0m: could not convert string to float: '?'"
     ]
    }
   ],
   "source": [
    "from sklearn.model_selection import cross_val_score\n",
    "from sklearn import tree\n",
    "clf = tree.DecisionTreeClassifier()\n",
    "scores = cross_val_score(clf, X, y, cv=5)\n",
    "print(scores)"
   ]
  },
  {
   "cell_type": "markdown",
   "metadata": {},
   "source": [
    ":( need to handle question marks"
   ]
  },
  {
   "cell_type": "code",
   "execution_count": 658,
   "metadata": {
    "collapsed": false
   },
   "outputs": [
    {
     "name": "stdout",
     "output_type": "stream",
     "text": [
      "(12, 15)\n",
      "(12, 15)\n",
      "(6, 15)\n",
      "(6, 15)\n",
      "(9, 15)\n",
      "(9, 15)\n",
      "(0, 15)\n",
      "(0, 15)\n",
      "(0, 15)\n",
      "(0, 15)\n",
      "(13, 15)\n"
     ]
    }
   ],
   "source": [
    "print(X[X[0] == '?'].shape)\n",
    "print(X[X[1] == '?'].shape)\n",
    "print(X[X[3] == '?'].shape)\n",
    "print(X[X[4] == '?'].shape)\n",
    "print(X[X[5] == '?'].shape)\n",
    "print(X[X[6] == '?'].shape)\n",
    "print(X[X[8] == '?'].shape)\n",
    "print(X[X[9] == '?'].shape)\n",
    "# please, make it stop. Need to figure out better way of doing this\n",
    "print(X[X[11] == '?'].shape)\n",
    "print(X[X[12] == '?'].shape)\n",
    "print(X[X[13] == '?'].shape)\n"
   ]
  },
  {
   "cell_type": "code",
   "execution_count": 649,
   "metadata": {
    "collapsed": false
   },
   "outputs": [
    {
     "data": {
      "text/plain": [
       "(690, 16)"
      ]
     },
     "execution_count": 649,
     "metadata": {},
     "output_type": "execute_result"
    }
   ],
   "source": [
    "cd = shuffled_data.copy() #clean data\n",
    "cd.shape"
   ]
  },
  {
   "cell_type": "code",
   "execution_count": 659,
   "metadata": {
    "collapsed": false
   },
   "outputs": [],
   "source": [
    "for i in [1, 3, 4, 5, 6, 8 , 9, 11, 12, 13]:\n",
    "    cd = cd[cd[i] != '?'] # cd.drop(cd[i] != '?', inplace=True) didn't work :("
   ]
  },
  {
   "cell_type": "code",
   "execution_count": 652,
   "metadata": {
    "collapsed": false
   },
   "outputs": [
    {
     "data": {
      "text/plain": [
       "(661, 16)"
      ]
     },
     "execution_count": 652,
     "metadata": {},
     "output_type": "execute_result"
    }
   ],
   "source": [
    "cd.shape"
   ]
  },
  {
   "cell_type": "code",
   "execution_count": 656,
   "metadata": {
    "collapsed": false
   },
   "outputs": [
    {
     "data": {
      "text/plain": [
       "True"
      ]
     },
     "execution_count": 656,
     "metadata": {},
     "output_type": "execute_result"
    }
   ],
   "source": [
    "all(cd[cd[i] == '?'].empty for i in [1, 3, 4, 5, 6, 8 , 9, 11, 12, 13])"
   ]
  },
  {
   "cell_type": "markdown",
   "metadata": {},
   "source": [
    "Ok, we have our clean dataset. Let's try again."
   ]
  },
  {
   "cell_type": "code",
   "execution_count": 693,
   "metadata": {
    "collapsed": false
   },
   "outputs": [
    {
     "name": "stdout",
     "output_type": "stream",
     "text": [
      "[ 0.86466165  0.84962406  0.82575758  0.84090909  0.85496183]\n"
     ]
    }
   ],
   "source": [
    "X_clean = pd.get_dummies(cd[list(range(15))]) # boo, won't work without converting categorical data into numbers\n",
    "y_clean = cd[15]\n",
    "clf = tree.DecisionTreeClassifier()\n",
    "scores = cross_val_score(clf, X_clean, y_clean, cv=5)\n",
    "print(scores)"
   ]
  },
  {
   "cell_type": "code",
   "execution_count": 694,
   "metadata": {
    "collapsed": false
   },
   "outputs": [
    {
     "data": {
      "text/plain": [
       "0.84718284260268995"
      ]
     },
     "execution_count": 694,
     "metadata": {},
     "output_type": "execute_result"
    }
   ],
   "source": [
    "np.mean(scores)"
   ]
  }
 ],
 "metadata": {
  "anaconda-cloud": {},
  "kernelspec": {
   "display_name": "Python 3",
   "language": "python",
   "name": "python3"
  },
  "language_info": {
   "codemirror_mode": {
    "name": "ipython",
    "version": 3
   },
   "file_extension": ".py",
   "mimetype": "text/x-python",
   "name": "python",
   "nbconvert_exporter": "python",
   "pygments_lexer": "ipython3",
   "version": "3.6.0"
  }
 },
 "nbformat": 4,
 "nbformat_minor": 1
}
