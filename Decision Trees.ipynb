{
 "cells": [
  {
   "cell_type": "markdown",
   "metadata": {},
   "source": [
    "# Decision Trees"
   ]
  },
  {
   "cell_type": "markdown",
   "metadata": {},
   "source": [
    "Let's implement a decision tree"
   ]
  },
  {
   "cell_type": "markdown",
   "metadata": {},
   "source": [
    "We'll need two kinds of nodes:\n",
    "\n",
    "1.  **Internal nodes** to  represent decisions\n",
    "2.  **Leaf nodes** to represent classes"
   ]
  },
  {
   "cell_type": "code",
   "execution_count": 619,
   "metadata": {
    "collapsed": true
   },
   "outputs": [],
   "source": [
    "class Node(object):\n",
    "    def __init__(self, children):\n",
    "        self.children = children\n",
    "\n",
    "class Internal(Node):\n",
    "    def __init__(self, attrfn, children):\n",
    "        self.predicate = attrfn\n",
    "        super().__init__(children)\n",
    "\n",
    "class Leaf(Node):\n",
    "    def __init__(self, label):\n",
    "        print(\"Building leaf with class {0}\".format(label))\n",
    "        self.class_label = label\n",
    "        super().__init__(None)"
   ]
  },
  {
   "cell_type": "markdown",
   "metadata": {},
   "source": [
    "The basic algorithm is simple:\n",
    "\n",
    "<code>\n",
    " build_tree(samples)\n",
    "  if (y = 0 for all (x, y) in samples) return new leaf(0)\n",
    "  else if (y = 1 for all (x,y) in samples) return new leaf(1)\n",
    "  else\n",
    "    chose best attribute x<sub>j</sub>\n",
    "    s0 = all (x, y) in samples with x<sub>j</sub> = 0\n",
    "    s1 = all (x, y) in samples with x<sub>j</sub> = 1\n",
    "    return new node(x<sub>j</sub>, build_tree(s0), build_tree(s1))\n",
    "</code>"
   ]
  },
  {
   "cell_type": "code",
   "execution_count": 624,
   "metadata": {
    "collapsed": false
   },
   "outputs": [],
   "source": [
    "from collections import Counter\n",
    "\n",
    "def build_tree(samples, split, attrfns, label):\n",
    "    \"\"\"Build a decision tree\n",
    "       Parameters:\n",
    "       samples   -- list of samples, where each sample is a list of attributes\n",
    "       split     -- function that takes a list of samples, a list of attribute functions, and \n",
    "                    a label function. The function splits the data based on the best attribute,\n",
    "                    and returns a tuple:\n",
    "                    1) dict of data split, where key is the attribute value, and the value\n",
    "                       is a list of examples that have that attribute value\n",
    "                    2) the attribute function used for this split\n",
    "                    \n",
    "                    Example:\n",
    "                    \n",
    "                    samples = [['Monday', 'Yellow', 'X'], ['Monday', 'Red', 'O']]\n",
    "                    def day(s): return s[0]\n",
    "                    def color(s): return s[1]\n",
    "                    def label(s): return s[2]\n",
    "                    \n",
    "                    \n",
    "                    split(samples, [day, color], label)  (may return) =>\n",
    "                    \n",
    "                    {'Yellow' => ['Monday', 'Yellow', 'X']\n",
    "                     'Red'    => ['Monday', 'Red', 'O']} ,\n",
    "                     color                    \n",
    "                      \n",
    "       attrfns   -- list of attribute functions. Each of these functions can be applied to a \n",
    "                    a sample to get a specific attribute.\n",
    "                    e.g., [day_attr, color_attr],  day_attr(sample) => \"Monday\"\n",
    "                    or color_attr(sample) => \"Red\"\n",
    "       label     -- function that takes a single sample and returns the label for that sample\n",
    "                    e.g., label(sample) => 'X'\n",
    "    \"\"\"\n",
    "    if all(label(samples[0]) == label(sample) for sample in samples):\n",
    "        print(\"Building leaf with {0} same-class samples\".format(len(samples)))\n",
    "        return Leaf(label(samples[0]))\n",
    "\n",
    "    if not attrfns:\n",
    "        print(\"Building leaf with {0} samples\".format(len(samples)))\n",
    "        return Leaf(Counter(label(sample) for sample in samples).most_common()[0][0])\n",
    "    \n",
    "    splits, attrfn = split(samples, attrfns, label)\n",
    "    \n",
    "    remaining_attrfns = [fn for fn in attrfns if fn != attrfn]\n",
    "\n",
    "    child_nodes = []\n",
    "    for group in splits.values():\n",
    "        child_nodes.append(build_tree(group, split, remaining_attrfns, label))\n",
    "    return Internal(attrfn, child_nodes)"
   ]
  },
  {
   "cell_type": "markdown",
   "metadata": {},
   "source": [
    "We have not defined split, that depends on the data and how which criteria to use."
   ]
  },
  {
   "cell_type": "markdown",
   "metadata": {},
   "source": [
    "That brings us to entropy and information gain.\n",
    "\n",
    "\n",
    "Let's take a quick detour and build entropy and information gain. We'll use information gain to pick an attribute (and measure how well it splits the data)"
   ]
  },
  {
   "cell_type": "markdown",
   "metadata": {},
   "source": [
    "### Entropy and Information Gain"
   ]
  },
  {
   "cell_type": "code",
   "execution_count": 454,
   "metadata": {
    "collapsed": true
   },
   "outputs": [],
   "source": [
    "def entropy(examples):\n",
    "    '''\n",
    "    Computes entropy of samples\n",
    "    \n",
    "    The min entropy is 0.0, the max entropy is log2(n), where n is number of classes.\n",
    "    \n",
    "    Parameters\n",
    "    examples -- list of number of examples per class\n",
    "    '''\n",
    "    total = sum(examples)\n",
    "    entropy = 0.0\n",
    "    \n",
    "    # filter out classes with 0 examples to compute - p * log(p) \n",
    "    # (i.e., we define 0 * log(0) == 0)\n",
    "    for n in filter(None, examples):\n",
    "        entropy -= (n/total) * math.log(n/total , 2)\n",
    "    return entropy"
   ]
  },
  {
   "cell_type": "markdown",
   "metadata": {},
   "source": [
    "We use entropy to measure the \"purity\" of a node. A node is 100% pure (entropy == 0.0) if it contains examples of the same class.\n",
    "\n",
    "When a node is 100% impure, we'll get log2(n), where n is the number of classes."
   ]
  },
  {
   "cell_type": "code",
   "execution_count": 455,
   "metadata": {
    "collapsed": false
   },
   "outputs": [
    {
     "data": {
      "text/plain": [
       "True"
      ]
     },
     "execution_count": 455,
     "metadata": {},
     "output_type": "execute_result"
    }
   ],
   "source": [
    "0 == entropy([10]) # 100% pure, all same class"
   ]
  },
  {
   "cell_type": "code",
   "execution_count": 534,
   "metadata": {
    "collapsed": false
   },
   "outputs": [
    {
     "data": {
      "text/plain": [
       "True"
      ]
     },
     "execution_count": 534,
     "metadata": {},
     "output_type": "execute_result"
    }
   ],
   "source": [
    "1 == entropy([5, 5]) # Max impurity, two classes, data is split across classes equally"
   ]
  },
  {
   "cell_type": "code",
   "execution_count": 457,
   "metadata": {
    "collapsed": false
   },
   "outputs": [
    {
     "data": {
      "text/plain": [
       "0.9182958340544896"
      ]
     },
     "execution_count": 457,
     "metadata": {},
     "output_type": "execute_result"
    }
   ],
   "source": [
    "entropy([5, 10])  # impure"
   ]
  },
  {
   "cell_type": "code",
   "execution_count": 458,
   "metadata": {
    "collapsed": false
   },
   "outputs": [
    {
     "data": {
      "text/plain": [
       "0.4689955935892812"
      ]
     },
     "execution_count": 458,
     "metadata": {},
     "output_type": "execute_result"
    }
   ],
   "source": [
    "entropy([9, 1])  # 9 examples of 1 class, 1 example of another"
   ]
  },
  {
   "cell_type": "code",
   "execution_count": 459,
   "metadata": {
    "collapsed": false
   },
   "outputs": [
    {
     "data": {
      "text/plain": [
       "0.1392329990550989"
      ]
     },
     "execution_count": 459,
     "metadata": {},
     "output_type": "execute_result"
    }
   ],
   "source": [
    "entropy([50, 1]) # purer split"
   ]
  },
  {
   "cell_type": "code",
   "execution_count": 460,
   "metadata": {
    "collapsed": false
   },
   "outputs": [
    {
     "data": {
      "text/plain": [
       "0.08079313589591118"
      ]
     },
     "execution_count": 460,
     "metadata": {},
     "output_type": "execute_result"
    }
   ],
   "source": [
    "entropy([99, 1])"
   ]
  },
  {
   "cell_type": "code",
   "execution_count": 461,
   "metadata": {
    "collapsed": false
   },
   "outputs": [
    {
     "data": {
      "text/plain": [
       "0.0014729006652121114"
      ]
     },
     "execution_count": 461,
     "metadata": {},
     "output_type": "execute_result"
    }
   ],
   "source": [
    "entropy([10000, 1])"
   ]
  },
  {
   "cell_type": "code",
   "execution_count": 462,
   "metadata": {
    "collapsed": false
   },
   "outputs": [
    {
     "data": {
      "text/plain": [
       "2.137424295738942e-05"
      ]
     },
     "execution_count": 462,
     "metadata": {},
     "output_type": "execute_result"
    }
   ],
   "source": [
    "entropy([10**6, 1]) # almost pure"
   ]
  },
  {
   "cell_type": "code",
   "execution_count": 535,
   "metadata": {
    "collapsed": false
   },
   "outputs": [
    {
     "name": "stdout",
     "output_type": "stream",
     "text": [
      "2.584962500721156\n"
     ]
    },
    {
     "data": {
      "text/plain": [
       "True"
      ]
     },
     "execution_count": 535,
     "metadata": {},
     "output_type": "execute_result"
    }
   ],
   "source": [
    "print(math.log2(6))\n",
    "math.log2(6) == entropy([1,1,1,1,1,1])  # Max impurity, 6 classes\n"
   ]
  },
  {
   "cell_type": "markdown",
   "metadata": {},
   "source": [
    "#### Gain"
   ]
  },
  {
   "cell_type": "code",
   "execution_count": 463,
   "metadata": {
    "collapsed": false
   },
   "outputs": [],
   "source": [
    "def gain(examples, classfn, classes, attrfn, attrvals):\n",
    "    '''\n",
    "    Calculates information gain after splitting on an attribute\n",
    "    \n",
    "    Parameters\n",
    "    examples - list of examples. Each example has attributes.\n",
    "    class_fn - function that returns the class of an example.\n",
    "    classes  - list of all classses\n",
    "    attrfn   - function that returns the value of a specific attribute given an example.\n",
    "       e.g., attrnfn(example) -> attribute value\n",
    "    attrvals - list of all possible values for the attribute used for this split\n",
    "       e.g., [1, 2, 3], or ['red', 'yellow', 'green']\n",
    "    \n",
    "    '''\n",
    "\n",
    "    en = entropy(counts_per_class(examples, classfn, classes))    \n",
    "    total = len(examples)\n",
    "\n",
    "    for val in attrvals:\n",
    "        # Get all examples whose value for the attribute is val\n",
    "        sv = list(filter(lambda example: attrfn(example) == val, examples))\n",
    "        en -= len(sv)/total * entropy(counts_per_class(sv, classfn, classes))\n",
    "    return en"
   ]
  },
  {
   "cell_type": "code",
   "execution_count": 464,
   "metadata": {
    "collapsed": false
   },
   "outputs": [],
   "source": [
    "moon_day_examples = [\n",
    "    ['clear', 'cold', 'winter', 'moon'],\n",
    "    ['rainy', 'warm', 'spring', 'no-moon'],\n",
    "    ['cloudy', 'cold', 'winter', 'no-moon'],\n",
    "    ['clear', 'warm', 'summer', 'moon'],\n",
    "    ['rainy', 'cold', 'fall', 'no-moon'],\n",
    "    ['rainy', 'cold', 'spring', 'no-moon'],\n",
    "    ['clear', 'cold', 'spring', 'moon'],\n",
    "]"
   ]
  },
  {
   "cell_type": "code",
   "execution_count": 465,
   "metadata": {
    "collapsed": true
   },
   "outputs": [],
   "source": [
    "def moon(example):\n",
    "    return example[3]"
   ]
  },
  {
   "cell_type": "code",
   "execution_count": 466,
   "metadata": {
    "collapsed": true
   },
   "outputs": [],
   "source": [
    "def counts_per_class(examples, classfn, classes):\n",
    "    '''\n",
    "     Returns the distribution of classes for a subset of examples.\n",
    "       e.g., classfn(examples) -> [3, 4, 5]  (3 are of class 0, 4 of class 1, 5 of class 2)\n",
    "    '''\n",
    "    dist = dict()\n",
    "    for cls in classes:\n",
    "        dist[cls] = 0\n",
    "    \n",
    "    for example in examples:\n",
    "        cls = classfn(example)\n",
    "        dist[cls] += 1\n",
    "    \n",
    "    flat_dist = []\n",
    "    for cls in classes:\n",
    "        flat_dist.append(dist[cls])\n",
    "    return flat_dist"
   ]
  },
  {
   "cell_type": "code",
   "execution_count": 467,
   "metadata": {
    "collapsed": false
   },
   "outputs": [
    {
     "data": {
      "text/plain": [
       "[3, 4]"
      ]
     },
     "execution_count": 467,
     "metadata": {},
     "output_type": "execute_result"
    }
   ],
   "source": [
    "counts_per_class(moon_day_examples, moon, ['moon', 'no-moon'])  # 3 'moon' and 4 'non-moon'"
   ]
  },
  {
   "cell_type": "code",
   "execution_count": 468,
   "metadata": {
    "collapsed": true
   },
   "outputs": [],
   "source": [
    "def sky_condition(example): return example[0]\n",
    "def temp(example): return example[1]\n",
    "def season(example): return example[2]"
   ]
  },
  {
   "cell_type": "code",
   "execution_count": 469,
   "metadata": {
    "collapsed": true
   },
   "outputs": [],
   "source": [
    "def attrvalues(examples, attrfn):\n",
    "    return set(attrfn(example) for example in examples)"
   ]
  },
  {
   "cell_type": "code",
   "execution_count": 470,
   "metadata": {
    "collapsed": true
   },
   "outputs": [],
   "source": [
    "classes = ['moon', 'no-moon']"
   ]
  },
  {
   "cell_type": "code",
   "execution_count": 471,
   "metadata": {
    "collapsed": false
   },
   "outputs": [
    {
     "data": {
      "text/plain": [
       "{'clear', 'cloudy', 'rainy'}"
      ]
     },
     "execution_count": 471,
     "metadata": {},
     "output_type": "execute_result"
    }
   ],
   "source": [
    "sky = attrvalues(moon_day_examples, sky_condition)\n",
    "sky"
   ]
  },
  {
   "cell_type": "markdown",
   "metadata": {},
   "source": [
    "What's the gain if we split by **sky condition**?"
   ]
  },
  {
   "cell_type": "code",
   "execution_count": 472,
   "metadata": {
    "collapsed": false
   },
   "outputs": [
    {
     "data": {
      "text/plain": [
       "0.9852281360342516"
      ]
     },
     "execution_count": 472,
     "metadata": {},
     "output_type": "execute_result"
    }
   ],
   "source": [
    "gain(moon_day_examples, moon, classes, sky_condition, sky)"
   ]
  },
  {
   "cell_type": "markdown",
   "metadata": {},
   "source": [
    "What's the gain if we split by **temperature**?"
   ]
  },
  {
   "cell_type": "code",
   "execution_count": 473,
   "metadata": {
    "collapsed": false
   },
   "outputs": [
    {
     "data": {
      "text/plain": [
       "0.005977711423774124"
      ]
     },
     "execution_count": 473,
     "metadata": {},
     "output_type": "execute_result"
    }
   ],
   "source": [
    "temp_values = attrvalues(moon_day_examples, temp)\n",
    "gain(moon_day_examples, moon, classes, temp, temp_values)"
   ]
  },
  {
   "cell_type": "markdown",
   "metadata": {},
   "source": [
    "What's the gain if we split by **season**?"
   ]
  },
  {
   "cell_type": "code",
   "execution_count": 474,
   "metadata": {
    "collapsed": false
   },
   "outputs": [
    {
     "data": {
      "text/plain": [
       "0.3059584928680419"
      ]
     },
     "execution_count": 474,
     "metadata": {},
     "output_type": "execute_result"
    }
   ],
   "source": [
    "season_values = attrvalues(moon_day_examples, season)\n",
    "gain(moon_day_examples, moon, classes, season, season_values)"
   ]
  },
  {
   "cell_type": "markdown",
   "metadata": {},
   "source": [
    "As expected, sky condition is the best split to figure out which day we'll see the moon"
   ]
  },
  {
   "cell_type": "markdown",
   "metadata": {},
   "source": [
    "Another example: when to play tennis?"
   ]
  },
  {
   "cell_type": "code",
   "execution_count": 475,
   "metadata": {
    "collapsed": false
   },
   "outputs": [],
   "source": [
    "tennis_dataset = [line.split() for line in \"\"\"\n",
    "sunny    hot  high   weak   no\n",
    "sunny    hot  high   strong no\n",
    "overcast hot  high   weak   yes\n",
    "rain     mild high   weak   yes\n",
    "rain     cool normal weak   yes\n",
    "rain     cool normal strong no\n",
    "overcast cool normal strong yes\n",
    "sunny    mild high   weak   no\n",
    "sunny    cool normal weak   yes\n",
    "rain     mild normal weak   yes\n",
    "sunny    mild normal strong yes\n",
    "overcast mild high   strong yes\n",
    "overcast hot  normal weak   yes\n",
    "rain     mild high   strong no\n",
    "\"\"\".split('\\n')[1:-1]]"
   ]
  },
  {
   "cell_type": "code",
   "execution_count": 476,
   "metadata": {
    "collapsed": false
   },
   "outputs": [
    {
     "data": {
      "text/plain": [
       "[['sunny', 'hot', 'high', 'weak', 'no'],\n",
       " ['sunny', 'hot', 'high', 'strong', 'no'],\n",
       " ['overcast', 'hot', 'high', 'weak', 'yes'],\n",
       " ['rain', 'mild', 'high', 'weak', 'yes'],\n",
       " ['rain', 'cool', 'normal', 'weak', 'yes'],\n",
       " ['rain', 'cool', 'normal', 'strong', 'no'],\n",
       " ['overcast', 'cool', 'normal', 'strong', 'yes'],\n",
       " ['sunny', 'mild', 'high', 'weak', 'no'],\n",
       " ['sunny', 'cool', 'normal', 'weak', 'yes'],\n",
       " ['rain', 'mild', 'normal', 'weak', 'yes'],\n",
       " ['sunny', 'mild', 'normal', 'strong', 'yes'],\n",
       " ['overcast', 'mild', 'high', 'strong', 'yes'],\n",
       " ['overcast', 'hot', 'normal', 'weak', 'yes'],\n",
       " ['rain', 'mild', 'high', 'strong', 'no']]"
      ]
     },
     "execution_count": 476,
     "metadata": {},
     "output_type": "execute_result"
    }
   ],
   "source": [
    "tennis_dataset"
   ]
  },
  {
   "cell_type": "code",
   "execution_count": 477,
   "metadata": {
    "collapsed": true
   },
   "outputs": [],
   "source": [
    "def outlook(x): return x[0]\n",
    "def temperature(x): return x[1]\n",
    "def humidity(x): return x[2]\n",
    "def wind(x): return x[3]\n",
    "\n",
    "def play_tennis(x): return x[4]"
   ]
  },
  {
   "cell_type": "code",
   "execution_count": 478,
   "metadata": {
    "collapsed": false
   },
   "outputs": [
    {
     "data": {
      "text/plain": [
       "0.2467498197744391"
      ]
     },
     "execution_count": 478,
     "metadata": {},
     "output_type": "execute_result"
    }
   ],
   "source": [
    "outlook_values = attrvalues(tennis_dataset, outlook)\n",
    "gain(tennis_dataset, play_tennis, ['no', 'yes'], outlook, outlook_values)"
   ]
  },
  {
   "cell_type": "code",
   "execution_count": 479,
   "metadata": {
    "collapsed": false
   },
   "outputs": [
    {
     "data": {
      "text/plain": [
       "0.15183550136234136"
      ]
     },
     "execution_count": 479,
     "metadata": {},
     "output_type": "execute_result"
    }
   ],
   "source": [
    "humidity_values = attrvalues(tennis_dataset, humidity)\n",
    "gain(tennis_dataset, play_tennis, ['no', 'yes'], humidity, humidity_values)"
   ]
  },
  {
   "cell_type": "code",
   "execution_count": 480,
   "metadata": {
    "collapsed": false
   },
   "outputs": [
    {
     "data": {
      "text/plain": [
       "0.04812703040826927"
      ]
     },
     "execution_count": 480,
     "metadata": {},
     "output_type": "execute_result"
    }
   ],
   "source": [
    "wind_values = attrvalues(tennis_dataset, wind)\n",
    "gain(tennis_dataset, play_tennis, ['no', 'yes'], wind, wind_values)"
   ]
  },
  {
   "cell_type": "code",
   "execution_count": 481,
   "metadata": {
    "collapsed": false
   },
   "outputs": [
    {
     "data": {
      "text/plain": [
       "0.029222565658954647"
      ]
     },
     "execution_count": 481,
     "metadata": {},
     "output_type": "execute_result"
    }
   ],
   "source": [
    "temperature_values = attrvalues(tennis_dataset, temperature)\n",
    "gain(tennis_dataset, play_tennis, ['no', 'yes'], temperature, temperature_values)"
   ]
  },
  {
   "cell_type": "markdown",
   "metadata": {},
   "source": [
    "Outlook is the best way to split our data first!"
   ]
  },
  {
   "cell_type": "markdown",
   "metadata": {},
   "source": [
    "Let's use an interesting dataset"
   ]
  },
  {
   "cell_type": "markdown",
   "metadata": {},
   "source": [
    "### Credit Card Application Dataset\n",
    "\n",
    "https://archive.ics.uci.edu/ml/datasets/Credit+Approval"
   ]
  },
  {
   "cell_type": "code",
   "execution_count": 482,
   "metadata": {
    "collapsed": true
   },
   "outputs": [],
   "source": [
    "import pandas as pd"
   ]
  },
  {
   "cell_type": "code",
   "execution_count": 483,
   "metadata": {
    "collapsed": true
   },
   "outputs": [],
   "source": [
    "cc_data = pd.read_csv('dataset/crx.data', header=None)"
   ]
  },
  {
   "cell_type": "code",
   "execution_count": 484,
   "metadata": {
    "collapsed": false
   },
   "outputs": [
    {
     "data": {
      "text/html": [
       "<div>\n",
       "<table border=\"1\" class=\"dataframe\">\n",
       "  <thead>\n",
       "    <tr style=\"text-align: right;\">\n",
       "      <th></th>\n",
       "      <th>0</th>\n",
       "      <th>1</th>\n",
       "      <th>2</th>\n",
       "      <th>3</th>\n",
       "      <th>4</th>\n",
       "      <th>5</th>\n",
       "      <th>6</th>\n",
       "      <th>7</th>\n",
       "      <th>8</th>\n",
       "      <th>9</th>\n",
       "      <th>10</th>\n",
       "      <th>11</th>\n",
       "      <th>12</th>\n",
       "      <th>13</th>\n",
       "      <th>14</th>\n",
       "      <th>15</th>\n",
       "    </tr>\n",
       "  </thead>\n",
       "  <tbody>\n",
       "    <tr>\n",
       "      <th>0</th>\n",
       "      <td>b</td>\n",
       "      <td>30.83</td>\n",
       "      <td>0.000</td>\n",
       "      <td>u</td>\n",
       "      <td>g</td>\n",
       "      <td>w</td>\n",
       "      <td>v</td>\n",
       "      <td>1.25</td>\n",
       "      <td>t</td>\n",
       "      <td>t</td>\n",
       "      <td>1</td>\n",
       "      <td>f</td>\n",
       "      <td>g</td>\n",
       "      <td>00202</td>\n",
       "      <td>0</td>\n",
       "      <td>+</td>\n",
       "    </tr>\n",
       "    <tr>\n",
       "      <th>1</th>\n",
       "      <td>a</td>\n",
       "      <td>58.67</td>\n",
       "      <td>4.460</td>\n",
       "      <td>u</td>\n",
       "      <td>g</td>\n",
       "      <td>q</td>\n",
       "      <td>h</td>\n",
       "      <td>3.04</td>\n",
       "      <td>t</td>\n",
       "      <td>t</td>\n",
       "      <td>6</td>\n",
       "      <td>f</td>\n",
       "      <td>g</td>\n",
       "      <td>00043</td>\n",
       "      <td>560</td>\n",
       "      <td>+</td>\n",
       "    </tr>\n",
       "    <tr>\n",
       "      <th>2</th>\n",
       "      <td>a</td>\n",
       "      <td>24.50</td>\n",
       "      <td>0.500</td>\n",
       "      <td>u</td>\n",
       "      <td>g</td>\n",
       "      <td>q</td>\n",
       "      <td>h</td>\n",
       "      <td>1.50</td>\n",
       "      <td>t</td>\n",
       "      <td>f</td>\n",
       "      <td>0</td>\n",
       "      <td>f</td>\n",
       "      <td>g</td>\n",
       "      <td>00280</td>\n",
       "      <td>824</td>\n",
       "      <td>+</td>\n",
       "    </tr>\n",
       "    <tr>\n",
       "      <th>3</th>\n",
       "      <td>b</td>\n",
       "      <td>27.83</td>\n",
       "      <td>1.540</td>\n",
       "      <td>u</td>\n",
       "      <td>g</td>\n",
       "      <td>w</td>\n",
       "      <td>v</td>\n",
       "      <td>3.75</td>\n",
       "      <td>t</td>\n",
       "      <td>t</td>\n",
       "      <td>5</td>\n",
       "      <td>t</td>\n",
       "      <td>g</td>\n",
       "      <td>00100</td>\n",
       "      <td>3</td>\n",
       "      <td>+</td>\n",
       "    </tr>\n",
       "    <tr>\n",
       "      <th>4</th>\n",
       "      <td>b</td>\n",
       "      <td>20.17</td>\n",
       "      <td>5.625</td>\n",
       "      <td>u</td>\n",
       "      <td>g</td>\n",
       "      <td>w</td>\n",
       "      <td>v</td>\n",
       "      <td>1.71</td>\n",
       "      <td>t</td>\n",
       "      <td>f</td>\n",
       "      <td>0</td>\n",
       "      <td>f</td>\n",
       "      <td>s</td>\n",
       "      <td>00120</td>\n",
       "      <td>0</td>\n",
       "      <td>+</td>\n",
       "    </tr>\n",
       "  </tbody>\n",
       "</table>\n",
       "</div>"
      ],
      "text/plain": [
       "  0      1      2  3  4  5  6     7  8  9   10 11 12     13   14 15\n",
       "0  b  30.83  0.000  u  g  w  v  1.25  t  t   1  f  g  00202    0  +\n",
       "1  a  58.67  4.460  u  g  q  h  3.04  t  t   6  f  g  00043  560  +\n",
       "2  a  24.50  0.500  u  g  q  h  1.50  t  f   0  f  g  00280  824  +\n",
       "3  b  27.83  1.540  u  g  w  v  3.75  t  t   5  t  g  00100    3  +\n",
       "4  b  20.17  5.625  u  g  w  v  1.71  t  f   0  f  s  00120    0  +"
      ]
     },
     "execution_count": 484,
     "metadata": {},
     "output_type": "execute_result"
    }
   ],
   "source": [
    "cc_data.head()"
   ]
  },
  {
   "cell_type": "markdown",
   "metadata": {},
   "source": [
    "Column 15 is the class. \n",
    "\n",
    "\"+\" means the credit card application was approved\n",
    "\n",
    "\"-\" means it was denied\n"
   ]
  },
  {
   "cell_type": "code",
   "execution_count": 9,
   "metadata": {
    "collapsed": false
   },
   "outputs": [
    {
     "data": {
      "text/plain": [
       "(690, 16)"
      ]
     },
     "execution_count": 9,
     "metadata": {},
     "output_type": "execute_result"
    }
   ],
   "source": [
    "cc_data.shape"
   ]
  },
  {
   "cell_type": "code",
   "execution_count": 23,
   "metadata": {
    "collapsed": false
   },
   "outputs": [
    {
     "data": {
      "text/html": [
       "<div>\n",
       "<table border=\"1\" class=\"dataframe\">\n",
       "  <thead>\n",
       "    <tr style=\"text-align: right;\">\n",
       "      <th></th>\n",
       "      <th>0</th>\n",
       "      <th>1</th>\n",
       "      <th>2</th>\n",
       "      <th>3</th>\n",
       "      <th>4</th>\n",
       "      <th>5</th>\n",
       "      <th>6</th>\n",
       "      <th>7</th>\n",
       "      <th>8</th>\n",
       "      <th>9</th>\n",
       "      <th>10</th>\n",
       "      <th>11</th>\n",
       "      <th>12</th>\n",
       "      <th>13</th>\n",
       "      <th>14</th>\n",
       "      <th>15</th>\n",
       "    </tr>\n",
       "  </thead>\n",
       "  <tbody>\n",
       "    <tr>\n",
       "      <th>0</th>\n",
       "      <td>a</td>\n",
       "      <td>28.58</td>\n",
       "      <td>3.75</td>\n",
       "      <td>u</td>\n",
       "      <td>g</td>\n",
       "      <td>c</td>\n",
       "      <td>v</td>\n",
       "      <td>0.250</td>\n",
       "      <td>f</td>\n",
       "      <td>t</td>\n",
       "      <td>1</td>\n",
       "      <td>t</td>\n",
       "      <td>g</td>\n",
       "      <td>00040</td>\n",
       "      <td>154</td>\n",
       "      <td>-</td>\n",
       "    </tr>\n",
       "    <tr>\n",
       "      <th>1</th>\n",
       "      <td>b</td>\n",
       "      <td>55.92</td>\n",
       "      <td>11.50</td>\n",
       "      <td>u</td>\n",
       "      <td>g</td>\n",
       "      <td>ff</td>\n",
       "      <td>ff</td>\n",
       "      <td>5.000</td>\n",
       "      <td>t</td>\n",
       "      <td>t</td>\n",
       "      <td>5</td>\n",
       "      <td>f</td>\n",
       "      <td>g</td>\n",
       "      <td>00000</td>\n",
       "      <td>8851</td>\n",
       "      <td>+</td>\n",
       "    </tr>\n",
       "    <tr>\n",
       "      <th>2</th>\n",
       "      <td>a</td>\n",
       "      <td>19.75</td>\n",
       "      <td>0.75</td>\n",
       "      <td>u</td>\n",
       "      <td>g</td>\n",
       "      <td>c</td>\n",
       "      <td>v</td>\n",
       "      <td>0.795</td>\n",
       "      <td>t</td>\n",
       "      <td>t</td>\n",
       "      <td>5</td>\n",
       "      <td>t</td>\n",
       "      <td>g</td>\n",
       "      <td>00140</td>\n",
       "      <td>5</td>\n",
       "      <td>-</td>\n",
       "    </tr>\n",
       "    <tr>\n",
       "      <th>3</th>\n",
       "      <td>b</td>\n",
       "      <td>?</td>\n",
       "      <td>5.00</td>\n",
       "      <td>y</td>\n",
       "      <td>p</td>\n",
       "      <td>aa</td>\n",
       "      <td>v</td>\n",
       "      <td>8.500</td>\n",
       "      <td>t</td>\n",
       "      <td>f</td>\n",
       "      <td>0</td>\n",
       "      <td>f</td>\n",
       "      <td>g</td>\n",
       "      <td>00000</td>\n",
       "      <td>0</td>\n",
       "      <td>-</td>\n",
       "    </tr>\n",
       "    <tr>\n",
       "      <th>4</th>\n",
       "      <td>a</td>\n",
       "      <td>27.25</td>\n",
       "      <td>0.29</td>\n",
       "      <td>u</td>\n",
       "      <td>g</td>\n",
       "      <td>m</td>\n",
       "      <td>h</td>\n",
       "      <td>0.125</td>\n",
       "      <td>f</td>\n",
       "      <td>t</td>\n",
       "      <td>1</td>\n",
       "      <td>t</td>\n",
       "      <td>g</td>\n",
       "      <td>00272</td>\n",
       "      <td>108</td>\n",
       "      <td>-</td>\n",
       "    </tr>\n",
       "  </tbody>\n",
       "</table>\n",
       "</div>"
      ],
      "text/plain": [
       "  0      1      2  3  4   5   6      7  8  9   10 11 12     13    14 15\n",
       "0  a  28.58   3.75  u  g   c   v  0.250  f  t   1  t  g  00040   154  -\n",
       "1  b  55.92  11.50  u  g  ff  ff  5.000  t  t   5  f  g  00000  8851  +\n",
       "2  a  19.75   0.75  u  g   c   v  0.795  t  t   5  t  g  00140     5  -\n",
       "3  b      ?   5.00  y  p  aa   v  8.500  t  f   0  f  g  00000     0  -\n",
       "4  a  27.25   0.29  u  g   m   h  0.125  f  t   1  t  g  00272   108  -"
      ]
     },
     "execution_count": 23,
     "metadata": {},
     "output_type": "execute_result"
    }
   ],
   "source": [
    "import numpy as np\n",
    "shuffled_data = cc_data.sample(frac=1).reset_index(drop=True)\n",
    "shuffled_data.head()"
   ]
  },
  {
   "cell_type": "code",
   "execution_count": 571,
   "metadata": {
    "collapsed": false
   },
   "outputs": [],
   "source": [
    "def cc_split(samples, attrfns, label):\n",
    "    # Compute information gain for every attfn used\n",
    "    gains = []\n",
    "    for attrfn in attrfns:\n",
    "        g = gain(samples, label, ['+', '-'], attrfn, attrvalues(samples, attrfn))\n",
    "        gains.append((g, attrfn))\n",
    "    \n",
    "    g, fn = max(gains, key=lambda x: x[0])\n",
    "    print(\"max gain is {0}: {1}\".format(fn.__name__, g))  \n",
    "    return group_by_fn(samples, fn), fn"
   ]
  },
  {
   "cell_type": "code",
   "execution_count": 567,
   "metadata": {
    "collapsed": true
   },
   "outputs": [],
   "source": [
    "def group_by_fn(samples, fn):\n",
    "    vals = attrvalues(samples, fn)\n",
    "    groups = dict()\n",
    "\n",
    "    for val in vals:\n",
    "        groups[val] = []\n",
    "\n",
    "    for x in samples:\n",
    "        val = fn(x)\n",
    "        groups[val].append(x)\n",
    "\n",
    "    return groups    "
   ]
  },
  {
   "cell_type": "code",
   "execution_count": 568,
   "metadata": {
    "collapsed": true
   },
   "outputs": [],
   "source": [
    "def cc_class(x): return x[15]"
   ]
  },
  {
   "cell_type": "code",
   "execution_count": 599,
   "metadata": {
    "collapsed": false
   },
   "outputs": [],
   "source": [
    "\n",
    "# Let's build some attribute functions for categorical data\n",
    "\n",
    "def zeroth(x): return x[0]\n",
    "def third(x): return x[3]\n",
    "def fourth(x): return x[4]\n",
    "def fifth(x): return x[5]\n",
    "def sixth(x): return x[6]\n",
    "def eight(x): return x[8]\n",
    "def ninth(x): return x[9]\n",
    "def eleventh(x): return x[11]\n",
    "def twelveth(x): return x[12]\n",
    "\n",
    "cc_att_fns = [zeroth, third, fourth, fifth, sixth, eight, ninth, eleventh, twelveth]"
   ]
  },
  {
   "cell_type": "code",
   "execution_count": 572,
   "metadata": {
    "collapsed": false
   },
   "outputs": [
    {
     "name": "stdout",
     "output_type": "stream",
     "text": [
      "max gain is eight: 0.4880889369130191\n"
     ]
    }
   ],
   "source": [
    "groups, fn = cc_split(shuffled_data[:100].values.tolist(), cc_att_fns, cc_class)"
   ]
  },
  {
   "cell_type": "markdown",
   "metadata": {},
   "source": [
    "The eigth attribute gave us the best gain.\n",
    "\n",
    "\n",
    "Here's how this data was split:"
   ]
  },
  {
   "cell_type": "code",
   "execution_count": 576,
   "metadata": {
    "collapsed": false
   },
   "outputs": [
    {
     "name": "stdout",
     "output_type": "stream",
     "text": [
      "t: 53\n",
      "f: 47\n"
     ]
    }
   ],
   "source": [
    "for key, examples in groups.items():\n",
    "    print(\"{0}: {1}\".format(key, len(examples)))\n"
   ]
  },
  {
   "cell_type": "code",
   "execution_count": 625,
   "metadata": {
    "collapsed": false
   },
   "outputs": [
    {
     "name": "stdout",
     "output_type": "stream",
     "text": [
      "max gain is eight: 0.4880889369130191\n",
      "max gain is fifth: 0.21109607566762426\n",
      "Building leaf with 5 same-class samples\n",
      "Building leaf with class +\n",
      "max gain is third: 0.10519553207004634\n",
      "max gain is eleventh: 0.19811742113040343\n",
      "max gain is zeroth: 0.9182958340544896\n",
      "Building leaf with 1 same-class samples\n",
      "Building leaf with class -\n",
      "Building leaf with 2 same-class samples\n",
      "Building leaf with class +\n",
      "Building leaf with 4 same-class samples\n",
      "Building leaf with class +\n",
      "max gain is zeroth: 0.31127812445913283\n",
      "Building leaf with 1 same-class samples\n",
      "Building leaf with class +\n",
      "max gain is sixth: 0.2516291673878229\n",
      "max gain is fourth: 0.0\n",
      "max gain is ninth: 0.0\n",
      "max gain is eleventh: 0.0\n",
      "max gain is twelveth: 0.0\n",
      "Building leaf with 2 samples\n",
      "Building leaf with class +\n",
      "Building leaf with 1 same-class samples\n",
      "Building leaf with class -\n",
      "Building leaf with 3 same-class samples\n",
      "Building leaf with class +\n",
      "Building leaf with 1 same-class samples\n",
      "Building leaf with class +\n",
      "Building leaf with 1 same-class samples\n",
      "Building leaf with class -\n",
      "Building leaf with 4 same-class samples\n",
      "Building leaf with class +\n",
      "max gain is zeroth: 1.0\n",
      "Building leaf with 1 same-class samples\n",
      "Building leaf with class +\n",
      "Building leaf with 1 same-class samples\n",
      "Building leaf with class -\n",
      "Building leaf with 9 same-class samples\n",
      "Building leaf with class +\n",
      "max gain is ninth: 0.09235938389499498\n",
      "max gain is eleventh: 0.17095059445466865\n",
      "max gain is zeroth: 0.2516291673878229\n",
      "Building leaf with 1 same-class samples\n",
      "Building leaf with class +\n",
      "max gain is third: 0.0\n",
      "max gain is fourth: 0.0\n",
      "max gain is sixth: 0.0\n",
      "max gain is twelveth: 0.0\n",
      "Building leaf with 2 samples\n",
      "Building leaf with class +\n",
      "Building leaf with 2 same-class samples\n",
      "Building leaf with class +\n",
      "Building leaf with 3 same-class samples\n",
      "Building leaf with class +\n",
      "max gain is sixth: 0.8112781244591328\n",
      "Building leaf with 1 same-class samples\n",
      "Building leaf with class -\n",
      "Building leaf with 1 same-class samples\n",
      "Building leaf with class +\n",
      "Building leaf with 2 same-class samples\n",
      "Building leaf with class +\n",
      "max gain is zeroth: 0.9182958340544896\n",
      "Building leaf with 2 same-class samples\n",
      "Building leaf with class +\n",
      "Building leaf with 1 same-class samples\n",
      "Building leaf with class -\n",
      "max gain is zeroth: 0.0\n",
      "max gain is third: 0.0\n",
      "max gain is fourth: 0.0\n",
      "max gain is sixth: 0.0\n",
      "max gain is ninth: 0.0\n",
      "max gain is eleventh: 0.0\n",
      "max gain is twelveth: 0.0\n",
      "Building leaf with 2 samples\n",
      "Building leaf with class +\n",
      "max gain is third: 0.1574205577755503\n",
      "Building leaf with 30 same-class samples\n",
      "Building leaf with class -\n",
      "Building leaf with 1 same-class samples\n",
      "Building leaf with class +\n",
      "max gain is twelveth: 0.21229006661701388\n",
      "max gain is fifth: 0.11271663672563392\n",
      "Building leaf with 1 same-class samples\n",
      "Building leaf with class -\n",
      "max gain is eleventh: 0.3219280948873623\n",
      "max gain is zeroth: 0.0\n",
      "max gain is fourth: 0.0\n",
      "max gain is sixth: 0.0\n",
      "max gain is ninth: 0.0\n",
      "Building leaf with 2 samples\n",
      "Building leaf with class -\n",
      "Building leaf with 3 same-class samples\n",
      "Building leaf with class -\n",
      "Building leaf with 3 same-class samples\n",
      "Building leaf with class -\n",
      "Building leaf with 2 same-class samples\n",
      "Building leaf with class -\n",
      "Building leaf with 1 same-class samples\n",
      "Building leaf with class -\n",
      "Building leaf with 1 same-class samples\n",
      "Building leaf with class -\n",
      "Building leaf with 2 same-class samples\n",
      "Building leaf with class -\n",
      "Building leaf with 1 same-class samples\n",
      "Building leaf with class +\n"
     ]
    },
    {
     "data": {
      "text/plain": [
       "<__main__.Internal at 0x10b48b4e0>"
      ]
     },
     "execution_count": 625,
     "metadata": {},
     "output_type": "execute_result"
    }
   ],
   "source": [
    "x = shuffled_data[:100].values.tolist()\n",
    "\n",
    "build_tree(x, cc_split, cc_att_fns, cc_class)"
   ]
  },
  {
   "cell_type": "code",
   "execution_count": null,
   "metadata": {
    "collapsed": true
   },
   "outputs": [],
   "source": []
  }
 ],
 "metadata": {
  "anaconda-cloud": {},
  "kernelspec": {
   "display_name": "Python 3",
   "language": "python",
   "name": "python3"
  },
  "language_info": {
   "codemirror_mode": {
    "name": "ipython",
    "version": 3
   },
   "file_extension": ".py",
   "mimetype": "text/x-python",
   "name": "python",
   "nbconvert_exporter": "python",
   "pygments_lexer": "ipython3",
   "version": "3.6.0"
  }
 },
 "nbformat": 4,
 "nbformat_minor": 1
}
